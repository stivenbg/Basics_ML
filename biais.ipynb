{
  "cells": [
    {
      "cell_type": "markdown",
      "metadata": {
        "id": "view-in-github",
        "colab_type": "text"
      },
      "source": [
        "<a href=\"https://colab.research.google.com/github/stivenbg/Basics_ML/blob/main/biais.ipynb\" target=\"_parent\"><img src=\"https://colab.research.google.com/assets/colab-badge.svg\" alt=\"Open In Colab\"/></a>"
      ]
    },
    {
      "cell_type": "code",
      "execution_count": 1,
      "metadata": {
        "id": "QBHx9b0LtVDZ"
      },
      "outputs": [],
      "source": [
        "#Mon code fonctionne correctement sur la prédiction de U. Maintenant je l'adapte à éta. niveau fonction coût : La dimension FEM c'est ok. La dimension BC pas ok. La dimension PDE pas ok."
      ]
    },
    {
      "cell_type": "code",
      "source": [
        "#Je solve d'abord U ensuite je m'adapte à eta "
      ],
      "metadata": {
        "id": "RnDk-fGzJY5V"
      },
      "execution_count": null,
      "outputs": []
    },
    {
      "cell_type": "code",
      "execution_count": 1,
      "metadata": {
        "id": "Ceoz1IdW3P-H"
      },
      "outputs": [],
      "source": [
        "import torch\n",
        "import torch.nn as nn\n",
        "import pandas as pd\n",
        "from torch.autograd import Variable\n",
        "device = torch.device(\"cuda:0\" if torch.cuda.is_available() else \"cpu\")\n",
        "import numpy as np"
      ]
    },
    {
      "cell_type": "code",
      "execution_count": 2,
      "metadata": {
        "colab": {
          "base_uri": "https://localhost:8080/",
          "height": 90
        },
        "id": "b9qQOB3b3cLd",
        "outputId": "ab22f917-4724-46e7-a67a-428cf4ccdb30"
      },
      "outputs": [
        {
          "output_type": "display_data",
          "data": {
            "text/plain": [
              "<IPython.core.display.HTML object>"
            ],
            "text/html": [
              "\n",
              "     <input type=\"file\" id=\"files-57c3ca02-152d-478c-9979-1b8b1c1a1599\" name=\"files[]\" multiple disabled\n",
              "        style=\"border:none\" />\n",
              "     <output id=\"result-57c3ca02-152d-478c-9979-1b8b1c1a1599\">\n",
              "      Upload widget is only available when the cell has been executed in the\n",
              "      current browser session. Please rerun this cell to enable.\n",
              "      </output>\n",
              "      <script>// Copyright 2017 Google LLC\n",
              "//\n",
              "// Licensed under the Apache License, Version 2.0 (the \"License\");\n",
              "// you may not use this file except in compliance with the License.\n",
              "// You may obtain a copy of the License at\n",
              "//\n",
              "//      http://www.apache.org/licenses/LICENSE-2.0\n",
              "//\n",
              "// Unless required by applicable law or agreed to in writing, software\n",
              "// distributed under the License is distributed on an \"AS IS\" BASIS,\n",
              "// WITHOUT WARRANTIES OR CONDITIONS OF ANY KIND, either express or implied.\n",
              "// See the License for the specific language governing permissions and\n",
              "// limitations under the License.\n",
              "\n",
              "/**\n",
              " * @fileoverview Helpers for google.colab Python module.\n",
              " */\n",
              "(function(scope) {\n",
              "function span(text, styleAttributes = {}) {\n",
              "  const element = document.createElement('span');\n",
              "  element.textContent = text;\n",
              "  for (const key of Object.keys(styleAttributes)) {\n",
              "    element.style[key] = styleAttributes[key];\n",
              "  }\n",
              "  return element;\n",
              "}\n",
              "\n",
              "// Max number of bytes which will be uploaded at a time.\n",
              "const MAX_PAYLOAD_SIZE = 100 * 1024;\n",
              "\n",
              "function _uploadFiles(inputId, outputId) {\n",
              "  const steps = uploadFilesStep(inputId, outputId);\n",
              "  const outputElement = document.getElementById(outputId);\n",
              "  // Cache steps on the outputElement to make it available for the next call\n",
              "  // to uploadFilesContinue from Python.\n",
              "  outputElement.steps = steps;\n",
              "\n",
              "  return _uploadFilesContinue(outputId);\n",
              "}\n",
              "\n",
              "// This is roughly an async generator (not supported in the browser yet),\n",
              "// where there are multiple asynchronous steps and the Python side is going\n",
              "// to poll for completion of each step.\n",
              "// This uses a Promise to block the python side on completion of each step,\n",
              "// then passes the result of the previous step as the input to the next step.\n",
              "function _uploadFilesContinue(outputId) {\n",
              "  const outputElement = document.getElementById(outputId);\n",
              "  const steps = outputElement.steps;\n",
              "\n",
              "  const next = steps.next(outputElement.lastPromiseValue);\n",
              "  return Promise.resolve(next.value.promise).then((value) => {\n",
              "    // Cache the last promise value to make it available to the next\n",
              "    // step of the generator.\n",
              "    outputElement.lastPromiseValue = value;\n",
              "    return next.value.response;\n",
              "  });\n",
              "}\n",
              "\n",
              "/**\n",
              " * Generator function which is called between each async step of the upload\n",
              " * process.\n",
              " * @param {string} inputId Element ID of the input file picker element.\n",
              " * @param {string} outputId Element ID of the output display.\n",
              " * @return {!Iterable<!Object>} Iterable of next steps.\n",
              " */\n",
              "function* uploadFilesStep(inputId, outputId) {\n",
              "  const inputElement = document.getElementById(inputId);\n",
              "  inputElement.disabled = false;\n",
              "\n",
              "  const outputElement = document.getElementById(outputId);\n",
              "  outputElement.innerHTML = '';\n",
              "\n",
              "  const pickedPromise = new Promise((resolve) => {\n",
              "    inputElement.addEventListener('change', (e) => {\n",
              "      resolve(e.target.files);\n",
              "    });\n",
              "  });\n",
              "\n",
              "  const cancel = document.createElement('button');\n",
              "  inputElement.parentElement.appendChild(cancel);\n",
              "  cancel.textContent = 'Cancel upload';\n",
              "  const cancelPromise = new Promise((resolve) => {\n",
              "    cancel.onclick = () => {\n",
              "      resolve(null);\n",
              "    };\n",
              "  });\n",
              "\n",
              "  // Wait for the user to pick the files.\n",
              "  const files = yield {\n",
              "    promise: Promise.race([pickedPromise, cancelPromise]),\n",
              "    response: {\n",
              "      action: 'starting',\n",
              "    }\n",
              "  };\n",
              "\n",
              "  cancel.remove();\n",
              "\n",
              "  // Disable the input element since further picks are not allowed.\n",
              "  inputElement.disabled = true;\n",
              "\n",
              "  if (!files) {\n",
              "    return {\n",
              "      response: {\n",
              "        action: 'complete',\n",
              "      }\n",
              "    };\n",
              "  }\n",
              "\n",
              "  for (const file of files) {\n",
              "    const li = document.createElement('li');\n",
              "    li.append(span(file.name, {fontWeight: 'bold'}));\n",
              "    li.append(span(\n",
              "        `(${file.type || 'n/a'}) - ${file.size} bytes, ` +\n",
              "        `last modified: ${\n",
              "            file.lastModifiedDate ? file.lastModifiedDate.toLocaleDateString() :\n",
              "                                    'n/a'} - `));\n",
              "    const percent = span('0% done');\n",
              "    li.appendChild(percent);\n",
              "\n",
              "    outputElement.appendChild(li);\n",
              "\n",
              "    const fileDataPromise = new Promise((resolve) => {\n",
              "      const reader = new FileReader();\n",
              "      reader.onload = (e) => {\n",
              "        resolve(e.target.result);\n",
              "      };\n",
              "      reader.readAsArrayBuffer(file);\n",
              "    });\n",
              "    // Wait for the data to be ready.\n",
              "    let fileData = yield {\n",
              "      promise: fileDataPromise,\n",
              "      response: {\n",
              "        action: 'continue',\n",
              "      }\n",
              "    };\n",
              "\n",
              "    // Use a chunked sending to avoid message size limits. See b/62115660.\n",
              "    let position = 0;\n",
              "    do {\n",
              "      const length = Math.min(fileData.byteLength - position, MAX_PAYLOAD_SIZE);\n",
              "      const chunk = new Uint8Array(fileData, position, length);\n",
              "      position += length;\n",
              "\n",
              "      const base64 = btoa(String.fromCharCode.apply(null, chunk));\n",
              "      yield {\n",
              "        response: {\n",
              "          action: 'append',\n",
              "          file: file.name,\n",
              "          data: base64,\n",
              "        },\n",
              "      };\n",
              "\n",
              "      let percentDone = fileData.byteLength === 0 ?\n",
              "          100 :\n",
              "          Math.round((position / fileData.byteLength) * 100);\n",
              "      percent.textContent = `${percentDone}% done`;\n",
              "\n",
              "    } while (position < fileData.byteLength);\n",
              "  }\n",
              "\n",
              "  // All done.\n",
              "  yield {\n",
              "    response: {\n",
              "      action: 'complete',\n",
              "    }\n",
              "  };\n",
              "}\n",
              "\n",
              "scope.google = scope.google || {};\n",
              "scope.google.colab = scope.google.colab || {};\n",
              "scope.google.colab._files = {\n",
              "  _uploadFiles,\n",
              "  _uploadFilesContinue,\n",
              "};\n",
              "})(self);\n",
              "</script> "
            ]
          },
          "metadata": {}
        },
        {
          "output_type": "stream",
          "name": "stdout",
          "text": [
            "Saving nodes_colocations.xlsx to nodes_colocations.xlsx\n"
          ]
        }
      ],
      "source": [
        "#Ici je loads mes data pour contraindre ma solution à respecter la FEM\n",
        "from google.colab import files\n",
        "uploaded = files.upload()"
      ]
    },
    {
      "cell_type": "code",
      "execution_count": 3,
      "metadata": {
        "colab": {
          "base_uri": "https://localhost:8080/"
        },
        "id": "uPUmji233iKa",
        "outputId": "39b80e56-d451-4f4c-b8c4-9c0831eda3cd"
      },
      "outputs": [
        {
          "output_type": "stream",
          "name": "stdout",
          "text": [
            "             1         0\n",
            "0     1.000000  1.000000\n",
            "1     0.000000  1.000000\n",
            "2     0.000000  0.000000\n",
            "3     1.000000  0.020000\n",
            "4     1.000000  0.040000\n",
            "...        ...       ...\n",
            "3429  0.465490  0.298860\n",
            "3430  0.989930  0.010072\n",
            "3431  0.010072  0.010072\n",
            "3432  0.989930  0.989930\n",
            "3433  0.010036  0.989960\n",
            "\n",
            "[3434 rows x 2 columns]\n"
          ]
        }
      ],
      "source": [
        "#Ici je recupère le maillage\n",
        "import io\n",
        "df = pd.read_excel(io.BytesIO(uploaded['nodes_colocations.xlsx']))\n",
        "print(df);"
      ]
    },
    {
      "cell_type": "code",
      "execution_count": 4,
      "metadata": {
        "id": "KpC7hRng3nPk"
      },
      "outputs": [],
      "source": [
        "#maillages fem, leur meshgrid reconstruit le maillage\n",
        "x3=df.loc[:,1];  #axe 1 Ici x3 et x4 sont des series\n",
        "x4=df.loc[:,0];  #axe 2\n",
        "x3=x3.to_numpy() #ici je la convertie en ndarray parce que c'est une serie\n",
        "x3=np.insert(x3, 0, 1) #je rajoute le premier élement qui manque, disparu pendant l'importation avec pandas\n",
        "x4=x4.to_numpy()\n",
        "x4=np.insert(x4, 0, 0) #dimension (3435,) on va transformer ce vecteur en dimension (3435,1) ave la suite\n",
        "x3=np.transpose(np.array([x3]))\n",
        "x4=np.transpose(np.array([x4]))\n",
        "X2, Y2 = np.meshgrid(x3,x4)\n"
      ]
    },
    {
      "cell_type": "code",
      "execution_count": null,
      "metadata": {
        "id": "Q2K1Fr3bJPT7"
      },
      "outputs": [],
      "source": [
        "len(X2)"
      ]
    },
    {
      "cell_type": "code",
      "execution_count": 5,
      "metadata": {
        "colab": {
          "base_uri": "https://localhost:8080/",
          "height": 90
        },
        "id": "nJsNzsC230GG",
        "outputId": "19537a6c-7177-4d2b-e46c-81bfdf3205ad"
      },
      "outputs": [
        {
          "output_type": "display_data",
          "data": {
            "text/plain": [
              "<IPython.core.display.HTML object>"
            ],
            "text/html": [
              "\n",
              "     <input type=\"file\" id=\"files-9459b8d5-a742-409a-aea0-95c5f143b067\" name=\"files[]\" multiple disabled\n",
              "        style=\"border:none\" />\n",
              "     <output id=\"result-9459b8d5-a742-409a-aea0-95c5f143b067\">\n",
              "      Upload widget is only available when the cell has been executed in the\n",
              "      current browser session. Please rerun this cell to enable.\n",
              "      </output>\n",
              "      <script>// Copyright 2017 Google LLC\n",
              "//\n",
              "// Licensed under the Apache License, Version 2.0 (the \"License\");\n",
              "// you may not use this file except in compliance with the License.\n",
              "// You may obtain a copy of the License at\n",
              "//\n",
              "//      http://www.apache.org/licenses/LICENSE-2.0\n",
              "//\n",
              "// Unless required by applicable law or agreed to in writing, software\n",
              "// distributed under the License is distributed on an \"AS IS\" BASIS,\n",
              "// WITHOUT WARRANTIES OR CONDITIONS OF ANY KIND, either express or implied.\n",
              "// See the License for the specific language governing permissions and\n",
              "// limitations under the License.\n",
              "\n",
              "/**\n",
              " * @fileoverview Helpers for google.colab Python module.\n",
              " */\n",
              "(function(scope) {\n",
              "function span(text, styleAttributes = {}) {\n",
              "  const element = document.createElement('span');\n",
              "  element.textContent = text;\n",
              "  for (const key of Object.keys(styleAttributes)) {\n",
              "    element.style[key] = styleAttributes[key];\n",
              "  }\n",
              "  return element;\n",
              "}\n",
              "\n",
              "// Max number of bytes which will be uploaded at a time.\n",
              "const MAX_PAYLOAD_SIZE = 100 * 1024;\n",
              "\n",
              "function _uploadFiles(inputId, outputId) {\n",
              "  const steps = uploadFilesStep(inputId, outputId);\n",
              "  const outputElement = document.getElementById(outputId);\n",
              "  // Cache steps on the outputElement to make it available for the next call\n",
              "  // to uploadFilesContinue from Python.\n",
              "  outputElement.steps = steps;\n",
              "\n",
              "  return _uploadFilesContinue(outputId);\n",
              "}\n",
              "\n",
              "// This is roughly an async generator (not supported in the browser yet),\n",
              "// where there are multiple asynchronous steps and the Python side is going\n",
              "// to poll for completion of each step.\n",
              "// This uses a Promise to block the python side on completion of each step,\n",
              "// then passes the result of the previous step as the input to the next step.\n",
              "function _uploadFilesContinue(outputId) {\n",
              "  const outputElement = document.getElementById(outputId);\n",
              "  const steps = outputElement.steps;\n",
              "\n",
              "  const next = steps.next(outputElement.lastPromiseValue);\n",
              "  return Promise.resolve(next.value.promise).then((value) => {\n",
              "    // Cache the last promise value to make it available to the next\n",
              "    // step of the generator.\n",
              "    outputElement.lastPromiseValue = value;\n",
              "    return next.value.response;\n",
              "  });\n",
              "}\n",
              "\n",
              "/**\n",
              " * Generator function which is called between each async step of the upload\n",
              " * process.\n",
              " * @param {string} inputId Element ID of the input file picker element.\n",
              " * @param {string} outputId Element ID of the output display.\n",
              " * @return {!Iterable<!Object>} Iterable of next steps.\n",
              " */\n",
              "function* uploadFilesStep(inputId, outputId) {\n",
              "  const inputElement = document.getElementById(inputId);\n",
              "  inputElement.disabled = false;\n",
              "\n",
              "  const outputElement = document.getElementById(outputId);\n",
              "  outputElement.innerHTML = '';\n",
              "\n",
              "  const pickedPromise = new Promise((resolve) => {\n",
              "    inputElement.addEventListener('change', (e) => {\n",
              "      resolve(e.target.files);\n",
              "    });\n",
              "  });\n",
              "\n",
              "  const cancel = document.createElement('button');\n",
              "  inputElement.parentElement.appendChild(cancel);\n",
              "  cancel.textContent = 'Cancel upload';\n",
              "  const cancelPromise = new Promise((resolve) => {\n",
              "    cancel.onclick = () => {\n",
              "      resolve(null);\n",
              "    };\n",
              "  });\n",
              "\n",
              "  // Wait for the user to pick the files.\n",
              "  const files = yield {\n",
              "    promise: Promise.race([pickedPromise, cancelPromise]),\n",
              "    response: {\n",
              "      action: 'starting',\n",
              "    }\n",
              "  };\n",
              "\n",
              "  cancel.remove();\n",
              "\n",
              "  // Disable the input element since further picks are not allowed.\n",
              "  inputElement.disabled = true;\n",
              "\n",
              "  if (!files) {\n",
              "    return {\n",
              "      response: {\n",
              "        action: 'complete',\n",
              "      }\n",
              "    };\n",
              "  }\n",
              "\n",
              "  for (const file of files) {\n",
              "    const li = document.createElement('li');\n",
              "    li.append(span(file.name, {fontWeight: 'bold'}));\n",
              "    li.append(span(\n",
              "        `(${file.type || 'n/a'}) - ${file.size} bytes, ` +\n",
              "        `last modified: ${\n",
              "            file.lastModifiedDate ? file.lastModifiedDate.toLocaleDateString() :\n",
              "                                    'n/a'} - `));\n",
              "    const percent = span('0% done');\n",
              "    li.appendChild(percent);\n",
              "\n",
              "    outputElement.appendChild(li);\n",
              "\n",
              "    const fileDataPromise = new Promise((resolve) => {\n",
              "      const reader = new FileReader();\n",
              "      reader.onload = (e) => {\n",
              "        resolve(e.target.result);\n",
              "      };\n",
              "      reader.readAsArrayBuffer(file);\n",
              "    });\n",
              "    // Wait for the data to be ready.\n",
              "    let fileData = yield {\n",
              "      promise: fileDataPromise,\n",
              "      response: {\n",
              "        action: 'continue',\n",
              "      }\n",
              "    };\n",
              "\n",
              "    // Use a chunked sending to avoid message size limits. See b/62115660.\n",
              "    let position = 0;\n",
              "    do {\n",
              "      const length = Math.min(fileData.byteLength - position, MAX_PAYLOAD_SIZE);\n",
              "      const chunk = new Uint8Array(fileData, position, length);\n",
              "      position += length;\n",
              "\n",
              "      const base64 = btoa(String.fromCharCode.apply(null, chunk));\n",
              "      yield {\n",
              "        response: {\n",
              "          action: 'append',\n",
              "          file: file.name,\n",
              "          data: base64,\n",
              "        },\n",
              "      };\n",
              "\n",
              "      let percentDone = fileData.byteLength === 0 ?\n",
              "          100 :\n",
              "          Math.round((position / fileData.byteLength) * 100);\n",
              "      percent.textContent = `${percentDone}% done`;\n",
              "\n",
              "    } while (position < fileData.byteLength);\n",
              "  }\n",
              "\n",
              "  // All done.\n",
              "  yield {\n",
              "    response: {\n",
              "      action: 'complete',\n",
              "    }\n",
              "  };\n",
              "}\n",
              "\n",
              "scope.google = scope.google || {};\n",
              "scope.google.colab = scope.google.colab || {};\n",
              "scope.google.colab._files = {\n",
              "  _uploadFiles,\n",
              "  _uploadFilesContinue,\n",
              "};\n",
              "})(self);\n",
              "</script> "
            ]
          },
          "metadata": {}
        },
        {
          "output_type": "stream",
          "name": "stdout",
          "text": [
            "Saving nouvelle_simu_enfin_nov.xlsx to nouvelle_simu_enfin_nov.xlsx\n"
          ]
        }
      ],
      "source": [
        "#Importation des données de simulation\n",
        "from google.colab import files\n",
        "uploaded = files.upload()"
      ]
    },
    {
      "cell_type": "code",
      "execution_count": 6,
      "metadata": {
        "colab": {
          "base_uri": "https://localhost:8080/"
        },
        "id": "YrP_UmTk34GY",
        "outputId": "cda6eb9a-ad37-43e2-80d1-43832fa73db2"
      },
      "outputs": [
        {
          "output_type": "stream",
          "name": "stdout",
          "text": [
            "      solution_EF  solution_PBDW  solution_PBDW_eta  solution_PBDW_z\n",
            "0         0.40351        0.40351       1.203800e-07          0.40351\n",
            "1         0.58286        0.58286      -9.246900e-08          0.58286\n",
            "2         0.37138        0.37138      -1.102000e-08          0.37138\n",
            "3         0.19203        0.19203      -2.241900e-07          0.19203\n",
            "4         0.40374        0.40374       1.217900e-07          0.40374\n",
            "...           ...            ...                ...              ...\n",
            "3430      0.28857        0.28857      -6.469500e-08          0.28857\n",
            "3431      0.40337        0.40337       1.203900e-07          0.40337\n",
            "3432      0.19215        0.19215      -2.240200e-07          0.19215\n",
            "3433      0.58249        0.58249      -9.247500e-08          0.58249\n",
            "3434      0.37127        0.37127      -1.102100e-08          0.37127\n",
            "\n",
            "[3435 rows x 4 columns]\n"
          ]
        }
      ],
      "source": [
        "import io\n",
        "df = pd.read_excel(io.BytesIO(uploaded['nouvelle_simu_enfin_nov.xlsx']))\n",
        "print(df);\n",
        "solution_EF=df.loc[:,'solution_EF'].to_numpy()\n",
        "solution_PBDW= df.loc[:,'solution_PBDW'].to_numpy()\n",
        "solution_PBDW_eta=df.loc[:,'solution_PBDW_eta'].to_numpy()\n",
        "solution_PBDW_z=df.loc[:,'solution_PBDW_z'].to_numpy()\n",
        "solution_EF_et_PBDW=df.loc[0:1,'solution_EF'].to_numpy()\n",
        "solution_EF_et_PBDW=df.loc[:,'solution_EF':'solution_PBDW'].to_numpy()"
      ]
    },
    {
      "cell_type": "code",
      "execution_count": 8,
      "metadata": {
        "id": "LokIb00x39Gd"
      },
      "outputs": [],
      "source": [
        "#parametter\n",
        "mu=6.6\n",
        "epsilon=0.0001\n",
        "\n",
        "# We consider Net as our solution u_theta(x,t)\n",
        "\n",
        "\"\"\"\n",
        "When forming the network, we have to keep in mind the number of inputs and outputs\n",
        "In ur case: #inputs = 2 (x,t)\n",
        "and #outputs = 1\n",
        "\n",
        "You can add ass many hidden layers as you want with as many neurons.\n",
        "More complex the network, the more prepared it is to find complex solutions, but it also requires more data.\n",
        "\n",
        "Let us create this network:\n",
        "min 5 hidden layer with 5 neurons each.\n",
        "\"\"\"\n",
        "\n",
        "class Net(nn.Module):\n",
        "    def __init__(self):\n",
        "        super(Net, self).__init__()\n",
        "        self.hidden_layer1 = nn.Linear(2,50)\n",
        "        self.hidden_layer2 = nn.Linear(50,50)\n",
        "        self.hidden_layer3 = nn.Linear(50,50)\n",
        "        self.hidden_layer4 = nn.Linear(50,50)\n",
        "        self.hidden_layer5 = nn.Linear(50,50)\n",
        "\n",
        "        self.output_layer = nn.Linear(50,1)\n",
        "\n",
        "    def forward(self, x,t):\n",
        "        inputs = torch.cat([x,t],axis=1) # combined two arrays of 1 columns each to one array of 2 columns\n",
        "        layer1_out = torch.tanh(self.hidden_layer1(inputs))\n",
        "        layer2_out = torch.tanh(self.hidden_layer2(layer1_out))\n",
        "        layer3_out = torch.tanh(self.hidden_layer3(layer2_out))\n",
        "        layer4_out = torch.tanh(self.hidden_layer4(layer3_out))\n",
        "        layer5_out = torch.tanh(self.hidden_layer5(layer4_out))\n",
        "\n",
        "\n",
        "        output = self.output_layer(layer3_out)\n",
        "        return output"
      ]
    },
    {
      "cell_type": "code",
      "source": [
        "#parametter\n",
        "mu=6.6\n",
        "epsilon=0.0001\n",
        "\n",
        "# We consider Net as our solution u_theta(x,t)\n",
        "\n",
        "\"\"\"\n",
        "When forming the network, we have to keep in mind the number of inputs and outputs\n",
        "In ur case: #inputs = 2 (x,t)\n",
        "and #outputs = 1\n",
        "\n",
        "You can add ass many hidden layers as you want with as many neurons.\n",
        "More complex the network, the more prepared it is to find complex solutions, but it also requires more data.\n",
        "\n",
        "Let us create this network:\n",
        "min 5 hidden layer with 5 neurons each.\n",
        "\"\"\"\n",
        "\n",
        "class Net(nn.Module):\n",
        "    def __init__(self):\n",
        "        super(Net, self).__init__()\n",
        "        self.hidden_layer1 = nn.Linear(2,20)\n",
        "        self.hidden_layer2 = nn.Linear(20,20)\n",
        "        self.hidden_layer3 = nn.Linear(20,20)\n",
        "        self.hidden_layer4 = nn.Linear(20,20)\n",
        "        self.hidden_layer5 = nn.Linear(20,20)\n",
        "\n",
        "\n",
        "        self.output_layer = nn.Linear(20,1)\n",
        "\n",
        "    def forward(self, x,t):\n",
        "        inputs = torch.cat([x,t],axis=1) # combined two arrays of 1 columns each to one array of 2 columns\n",
        "        layer1_out = torch.tanh(self.hidden_layer1(inputs))\n",
        "        layer2_out = torch.tanh(self.hidden_layer2(layer1_out))\n",
        "        layer3_out = torch.tanh(self.hidden_layer3(layer2_out))\n",
        "        layer4_out = torch.tanh(self.hidden_layer4(layer3_out))\n",
        "        layer5_out = torch.tanh(self.hidden_layer5(layer4_out))\n",
        "\n",
        "        output = self.output_layer(layer3_out)\n",
        "        return output"
      ],
      "metadata": {
        "id": "YF9XdXcvIvkd"
      },
      "execution_count": 9,
      "outputs": []
    },
    {
      "cell_type": "code",
      "execution_count": 21,
      "metadata": {
        "id": "8OlBNYHi4EPn"
      },
      "outputs": [],
      "source": [
        "### PDE as loss function. Thus would use the network which we call as u_theta\n",
        "def f(x,t, net): #ici net c'est eta\n",
        "    u = net(x,t) # the dependent variable u is given by the network based on independent variables x,t\n",
        "    ## Based on our f = du/dx - 2du/dt - u, we need du/dx and du/dt\n",
        "    #u_x = torch.autograd.grad(u.sum(), x, create_graph=True)[0]\n",
        "    #u_xx = torch.autograd.grad(u_x.sum(), x, create_graph=True)[0]\n",
        "    #u_t = torch.autograd.grad(u.sum(), t, create_graph=True)[0]\n",
        "\n",
        "    u_x = torch.autograd.grad(u.sum(), x, create_graph=True)[0]\n",
        "    u_xx = torch.autograd.grad(u_x.sum(), x, create_graph=True)[0]\n",
        "    u_t = torch.autograd.grad(u.sum(), t, create_graph=True)[0]\n",
        "    u_yy = torch.autograd.grad(u_t.sum(), t, create_graph=True)[0]\n",
        "    q= mu*(2*torch.tensor(x)**2 + torch.tensor(torch.exp(t)))\n",
        "    pde= (u_xx+u_yy)+mu**2*u - mu*q #edp verifiee par u\n",
        "    #pde2=()    #edp verifiee par eta\n",
        "    return pde\n",
        "\n",
        "    #u_xx_1 = u_xx[:,0]\n",
        "    #u_xx_2 = u_xx[:,1]\n",
        "    #q=np.vectorize(-2*x_1**2 - math.exp(x_2))\n",
        "    #pde =-(u_xx+u_tt)-mu**2*u - mu*Variable(torch.from_numpy(x).float(), requires_grad=True).to(device)**2 - torch.exp(Variable(torch.from_numpy(x).float(), requires_grad=True).to(device))\n",
        "    #pde = u_x - 2*u_t - u\n",
        "    #pde= -(u_xx+u_tt)-mu**2*u +q  #ok ok\n",
        "    #pde= -mu**2*u -(u_xx_1) #+u_xx_2)\n",
        "    #pde= -(u_xx)-mu**2*u\n",
        "    #pde=torch.tensor(1+epsilon*mu, dtype=torch.complex32)*(u_xx+u_tt)-mu**2*u\n",
        "  "
      ]
    },
    {
      "cell_type": "code",
      "execution_count": 10,
      "metadata": {
        "id": "ZDMrtJfd4KXf"
      },
      "outputs": [],
      "source": [
        "a6=0\n",
        "a_1 = 1 \n",
        "a_2 = 1\n",
        "\n",
        "def training_bc(N_u):\n",
        "  #Dans le cas de mon pb toutes les BC sont nulles\n",
        "  #a_1 = 0\n",
        "  #a_2 = 0\n",
        "  # compute u based on BC\n",
        "  #u_bc = 60*np.exp(-3*x_bc)\n",
        "  u_bc = a6*np.sin(a_1 * np.pi *X2) * np.sin(a_2 * np.pi *Y2) #nul de la dimension qu'il faut \n",
        "  leftedge_x = np.hstack((X2[:,0][:,None], Y2[:,0][:,None])) #côté gauche\n",
        "  leftedge_u = u_bc[:,0][:,None]\n",
        "  rightedge_x = np.hstack((X2[:,-1][:,None], Y2[:,-1][:,None])) #côté droit\n",
        "  rightedge_u = u_bc[:,-1][:,None]\n",
        "  topedge_x = np.hstack((X2[0,:][:,None], Y2[0,:][:,None])) #côté haut\n",
        "  topedge_u = u_bc[0,:][:,None]\n",
        "  bottomedge_x = np.hstack((X2[-1,:][:,None], Y2[-1,:][:,None])) #côté bas\n",
        "  bottomedge_u = u_bc[-1,:][:,None]\n",
        "  all_x_bc = np.vstack([leftedge_x, rightedge_x, bottomedge_x, topedge_x]) #concatenation horizontale des coordonnées de tous les côtés\n",
        "  all_u_bc =a6* np.vstack([leftedge_u, rightedge_u, bottomedge_u, topedge_u])  #Les valeurs aux bords du champ primal\n",
        "  #choose random N_u points for training\n",
        "  idx = np.random.choice(all_x_bc.shape[0], N_u, replace=False) \n",
        "\n",
        "  all_x_bc = all_x_bc[idx[0:N_u], :] #choose indices from  set 'idx' (x,t)\n",
        "  all_u_bc = all_u_bc[idx[0:N_u],:]    #choose corresponding u\n",
        "\n",
        "  return all_x_bc, all_u_bc\n"
      ]
    },
    {
      "cell_type": "code",
      "execution_count": 13,
      "metadata": {
        "id": "36sM6MSgwiIb"
      },
      "outputs": [],
      "source": [
        "#Ici je convertie mes data pour qu'elles soient exploitables\n",
        "N_u=2000\n",
        "pt_bc, u_bc = training_bc(N_u)\n",
        "#x_bc,t_bc = pt_bc[:,0],pt_bc[:,1] pas bon ici, il nous faut un format ligne colonne\n",
        "#np.transpose(np.array([pt_bc[:,0]])) on applique cette transformation pour convertir\n",
        "x_bc,t_bc = np.transpose(np.array([pt_bc[:,0]])),np.transpose(np.array([pt_bc[:,1]]))\n",
        "\n",
        "pt_x_fem1 = Variable(torch.from_numpy(x3).float(), requires_grad=False).to(device) \n",
        "pt_x_fem2= Variable(torch.from_numpy(x4).float(), requires_grad=False).to(device)\n",
        "pt_u_fem = Variable(torch.from_numpy(solution_EF).float(), requires_grad=False).to(device) #ici je remplace u_fem par eta\n",
        "pt_eta_pbdw = Variable(torch.from_numpy(solution_PBDW_eta).float(), requires_grad=False).to(device)\n",
        "pt_z = Variable(torch.from_numpy(solution_PBDW_z).float(), requires_grad=False).to(device)\n",
        "\n",
        "pt_x_bc = Variable(torch.from_numpy(x_bc).float(), requires_grad=False).to(device)\n",
        "pt_t_bc = Variable(torch.from_numpy(t_bc).float(), requires_grad=False).to(device)\n",
        "pt_u_bc = Variable(torch.from_numpy(u_bc).float(), requires_grad=False).to(device)\n",
        "#pt_u_bc = Variable(torch.from_numpy(ms_u_bc).float(), requires_grad=False).to(device)"
      ]
    },
    {
      "cell_type": "code",
      "execution_count": null,
      "metadata": {
        "id": "p1AtMgulxjpm"
      },
      "outputs": [],
      "source": [
        "#q= mu*(2*torch.tensor(pt_x_fem1)**2 + torch.tensor(torch.exp(pt_x_fem2)));\n",
        "#q.shape"
      ]
    },
    {
      "cell_type": "code",
      "execution_count": null,
      "metadata": {
        "id": "zMJzxWoKjFjg"
      },
      "outputs": [],
      "source": []
    },
    {
      "cell_type": "code",
      "execution_count": 14,
      "metadata": {
        "id": "7xQv4oaN4Nzv"
      },
      "outputs": [],
      "source": [
        "\n",
        "def TRAINING(iterations):\n",
        "  ### (2) Model\n",
        "\n",
        "### (3) Training / Fitting\n",
        "  #iterations = 2000\n",
        "\n",
        "  previous_validation_loss = 99999999.0\n",
        "  #loss.data=torch.tensor([[100000]])\n",
        "  for epoch in range(iterations):\n",
        "    optimizer.zero_grad() # to make the gradients zero\n",
        "\n",
        "    #Loss based on high fidelity FEM simulation #OK\n",
        "    #Ici je vais fit la sortie du réseau NN(xfem1,xfem2) à eta_fem.\n",
        "\n",
        "\n",
        "    net_fem_out=net(pt_x_fem1, pt_x_fem2)\n",
        "    #mse_fem=mse_cost_function(net_fem_out-pt_z, pt_eta_pbdw ) #je fit eta ok\n",
        "    mse_fem=mse_cost_function(net_fem_out, pt_eta_pbdw ) #je fit u ok\n",
        "\n",
        "\n",
        "    # Loss based on PDE #Trouver un moyen de faire la colocation sur les points de maillage EF afin de pouvoir évaluer les valeurs de Z à soustraire\n",
        "    x_collocation = np.random.uniform(low=0, high=1, size=(12000,1)) #x1\n",
        "    t_collocation = np.random.uniform(low=0, high=1, size=(12000,1)) #x2\n",
        "    all_zeros = np.zeros((12000,1))\n",
        "    pt_x_collocation = Variable(torch.from_numpy(x_collocation).float(), requires_grad=True).to(device)\n",
        "    pt_t_collocation = Variable(torch.from_numpy(t_collocation).float(), requires_grad=True).to(device)\n",
        "    pt_all_zeros = Variable(torch.from_numpy(all_zeros).float(), requires_grad=False).to(device)\n",
        "    \n",
        "    f_out = f(pt_x_collocation, pt_t_collocation, net) # output of f(x,t)\n",
        "    net_pde=net(pt_x_collocation, pt_t_collocation) #j'evalue le résidue de la pde\n",
        "    #mse_f = mse_cost_function(f_out, pt_all_zeros)\n",
        "    mse_f = mse_cost_function(net_pde, f_out)\n",
        "\n",
        "    #Loss based on boundary conditions #Pareillement ici il faut récupérer les valeurs de éta aux bords. Prendre les coordonées des élements du maillage les plus proches des bords\n",
        "    #et entrainer sur ces points là\n",
        "    # je recupère les paramètres des BC et je les scinde en 2 deux puisque le NN prend 2 inputs\n",
        "    # N_u=len(all_u_bc)=13740\n",
        "\n",
        "    net_bc_out = net(pt_x_bc, pt_t_bc) # output of u(x,t)\n",
        "    mse_u = mse_cost_function(net_bc_out, pt_u_bc)\n",
        "\n",
        "    #Loss based on orthogonality\n",
        "    #orthogonality_loss= net_bc_out*pt_z\n",
        "    #orthogonality_loss= net(pt_x_bc, pt_t_bc)*pt_z \n",
        "    net_fem_out=net(pt_x_fem1, pt_x_fem2)\n",
        "    mse_orthogonal=mse_cost_function(torch.sqrt(net_fem_out*pt_z), 0*pt_eta_pbdw ) #je fit u ok, la racine dans mse c'est pour avoir un produit scalaire non élevé au caré\n",
        "\n",
        "\n",
        "    # Combining the loss functions\n",
        "    # Total Loss\n",
        "    #loss =   mse_fem# + mse_f +mse_u   #la fonction cout à minimiser vis-à-vis du modèles, des BC, de la FEM\n",
        "    #loss = mse_f+mse_u+mse_fem#+1mse_orthogonal # cointraintes faibles (  accéssoirement reflechir à insérer des contraintes fortes instead )\n",
        "    #loss=mse_u +mse_fem+orthogonality_loss\n",
        "\n",
        "    loss = mse_u+mse_fem #+10*mse_orthogonal\n",
        "    \n",
        "    #Optimization\n",
        "    loss.backward() # This is for computing gradients using backward propagation\n",
        "    optimizer.step() # This is equivalent to : theta_new = theta_old - alpha * derivative of J w.r.t theta\n",
        "\n",
        "    with torch.autograd.no_grad():\n",
        "      print(epoch,\"Traning Loss:\",loss.data);\n",
        "    \n",
        "\n"
      ]
    },
    {
      "cell_type": "code",
      "execution_count": 15,
      "metadata": {
        "id": "fmnWNQGnHwhG",
        "colab": {
          "base_uri": "https://localhost:8080/"
        },
        "outputId": "3cf9a662-938f-4aa4-bd4f-4a1e222a2a30"
      },
      "outputs": [
        {
          "output_type": "execute_result",
          "data": {
            "text/plain": [
              "3435"
            ]
          },
          "metadata": {},
          "execution_count": 15
        }
      ],
      "source": [
        "len(pt_x_fem1)\n",
        "#net(pt_x_bc, pt_t_bc)*pt_z\n",
        "#net_bc_out*pt_z"
      ]
    },
    {
      "cell_type": "code",
      "execution_count": 16,
      "metadata": {
        "id": "Ivsbd0bYdE0m",
        "colab": {
          "base_uri": "https://localhost:8080/"
        },
        "outputId": "e1f4d30a-058c-41a4-e6ca-2bc48a78658c"
      },
      "outputs": [
        {
          "output_type": "execute_result",
          "data": {
            "text/plain": [
              "tensor([0., -0., -0.,  ..., -0., -0., -0.])"
            ]
          },
          "metadata": {},
          "execution_count": 16
        }
      ],
      "source": [
        "0*pt_eta_pbdw"
      ]
    },
    {
      "cell_type": "code",
      "execution_count": 17,
      "metadata": {
        "id": "SMoRvqoDIAdU",
        "colab": {
          "base_uri": "https://localhost:8080/",
          "height": 166
        },
        "outputId": "26c48873-d25f-4ba2-d237-01a70abcd148"
      },
      "outputs": [
        {
          "output_type": "error",
          "ename": "NameError",
          "evalue": "ignored",
          "traceback": [
            "\u001b[0;31m---------------------------------------------------------------------------\u001b[0m",
            "\u001b[0;31mNameError\u001b[0m                                 Traceback (most recent call last)",
            "\u001b[0;32m<ipython-input-17-57a22723ce4f>\u001b[0m in \u001b[0;36m<module>\u001b[0;34m\u001b[0m\n\u001b[0;32m----> 1\u001b[0;31m \u001b[0mlen\u001b[0m\u001b[0;34m(\u001b[0m\u001b[0mnet\u001b[0m\u001b[0;34m(\u001b[0m\u001b[0mpt_x1\u001b[0m\u001b[0;34m,\u001b[0m \u001b[0mpt_x2\u001b[0m\u001b[0;34m)\u001b[0m\u001b[0;34m)\u001b[0m\u001b[0;34m,\u001b[0m \u001b[0mlen\u001b[0m\u001b[0;34m(\u001b[0m\u001b[0mpt_z\u001b[0m\u001b[0;34m)\u001b[0m\u001b[0;34m\u001b[0m\u001b[0;34m\u001b[0m\u001b[0m\n\u001b[0m",
            "\u001b[0;31mNameError\u001b[0m: name 'net' is not defined"
          ]
        }
      ],
      "source": [
        "len(net(pt_x1, pt_x2)), len(pt_z)"
      ]
    },
    {
      "cell_type": "code",
      "execution_count": 18,
      "metadata": {
        "id": "l99uqkGr4TYq"
      },
      "outputs": [],
      "source": [
        "  net = Net() #ici je réinitialise le modèle, si je ne le fais pas, je repars de mon modèle précédent \n",
        "  net = net.to(device) # qui est stocké dans le device\n",
        "  mse_cost_function = torch.nn.MSELoss() # Mean squared error\n",
        "  optimizer = torch.optim.Adam(net.parameters(),lr=0.002,betas=(0.9, 0.999), eps=1e-08, weight_decay=0, amsgrad=False) #lorsque la fonction coût passe en dessous de 2 je baisse le pas d'incrément"
      ]
    },
    {
      "cell_type": "code",
      "source": [
        "from mpl_toolkits.mplot3d import Axes3D\n",
        "import matplotlib.pyplot as plt\n",
        "from matplotlib import cm\n",
        "from matplotlib.ticker import LinearLocator, FormatStrFormatter\n",
        "import numpy as np\n",
        "\n",
        "#x1=np.arange(-1,1,0.01)\n",
        "#x2=x1\n",
        "#ms_x1, ms_x2 = np.meshgrid(x1, x2)\n",
        "## Just because meshgrid is used, we need to do the following adjustment\n",
        "ms_x1, ms_x2=X2,Y2\n",
        "x1 = np.ravel(ms_x1).reshape(-1,1)\n",
        "x2 = np.ravel(ms_x2).reshape(-1,1)\n",
        "#true solution\n",
        "usol = np.sin(a_1 * np.pi *ms_x1) * np.sin(a_2 * np.pi * ms_x2) #solution chosen for convinience  \n",
        "#u_true = usol.flatten('F')[:,None]\n",
        " \n",
        "#pt_x1 = Variable(torch.from_numpy(x1).float(), requires_grad=True).to(device)\n",
        "#pt_x2 = Variable(torch.from_numpy(x2).float(), requires_grad=True).to(device)\n",
        "\n",
        "x3 = np.ravel(X2).reshape(-1,1)\n",
        "x4 = np.ravel(Y2).reshape(-1,1)\n",
        "\n",
        "pt_x3 = Variable(torch.from_numpy(x3).float(), requires_grad=True).to(device)\n",
        "pt_x4 = Variable(torch.from_numpy(x4).float(), requires_grad=True).to(device)\n",
        "#pt_u = net(pt_x1,pt_x2)\n",
        "pt_u = net(pt_x3,pt_x4)\n",
        "\n",
        "u=pt_u.data.cpu().numpy()\n",
        "#ms_u = u.reshape(ms_x1.shape)\n",
        "ms_u = u.reshape(X2.shape)\n"
      ],
      "metadata": {
        "id": "O1t8vx689GYa"
      },
      "execution_count": 84,
      "outputs": []
    },
    {
      "cell_type": "code",
      "source": [
        "\n",
        "def graph_sol3D():\n",
        "  fig = plt.figure()\n",
        "  ax = fig.gca(projection='3d')\n",
        "  surf = ax.plot_surface(ms_x1,ms_x2,np.abs(ms_u), cmap=cm.coolwarm,linewidth=0, antialiased=False)\n",
        "  ax.zaxis.set_major_locator(LinearLocator(10))\n",
        "  ax.zaxis.set_major_formatter(FormatStrFormatter('%.02f'))\n",
        "  fig.colorbar(surf, shrink=0.5, aspect=5)\n",
        "  plt.show()\n",
        "\n",
        "def graph_sol2D():\n",
        "  fig_1 = plt.figure(1, figsize=(18, 5))\n",
        "  plt.subplot(1, 3, 1)\n",
        "  plt.pcolor(ms_x1, ms_x2, usol, cmap='jet')\n",
        "  plt.colorbar()\n",
        "  plt.xlabel(r'$x_1$', fontsize=18)\n",
        "  plt.ylabel(r'$x_2$', fontsize=18)\n",
        "  plt.title('Analytical Solution $u(x1,x2)$', fontsize=15)\n",
        "\n",
        "  #Prediction\n",
        "  plt.subplot(1, 3, 2)\n",
        "  plt.pcolor(ms_x1, ms_x2, np.abs(ms_u), cmap='jet')\n",
        "  plt.colorbar()\n",
        "  plt.xlabel(r'$x_1$', fontsize=18)\n",
        "  plt.ylabel(r'$x_2$', fontsize=18)\n",
        "  plt.title('Predicted $NN(x_1,x_2)$', fontsize=15)\n",
        "\n",
        "  # Error\n",
        "  plt.subplot(1, 3, 3)\n",
        "  plt.pcolor(ms_x1, ms_x2, np.abs(usol - np.abs(ms_u)), cmap='jet')\n",
        "  plt.colorbar()\n",
        "  plt.xlabel(r'$x_1$', fontsize=18)\n",
        "  plt.ylabel(r'$x_2$', fontsize=18)\n",
        "  plt.title(r'Absolute error $|u(x_1,x_2)- NN(x_1,x_2)|$', fontsize=15)\n",
        "  #plt.tight_layout()"
      ],
      "metadata": {
        "id": "j7IDKua8-gmp"
      },
      "execution_count": 85,
      "outputs": []
    },
    {
      "cell_type": "code",
      "execution_count": 70,
      "metadata": {
        "id": "USGrdKvh4Qv9",
        "colab": {
          "base_uri": "https://localhost:8080/",
          "height": 235
        },
        "outputId": "7433f65f-ec8a-47ce-c126-6d2b072acf62"
      },
      "outputs": [
        {
          "output_type": "error",
          "ename": "ValueError",
          "evalue": "ignored",
          "traceback": [
            "\u001b[0;31m---------------------------------------------------------------------------\u001b[0m",
            "\u001b[0;31mValueError\u001b[0m                                Traceback (most recent call last)",
            "\u001b[0;32m<ipython-input-70-190c8dff3e7c>\u001b[0m in \u001b[0;36m<module>\u001b[0;34m\u001b[0m\n\u001b[1;32m     29\u001b[0m \u001b[0mu\u001b[0m\u001b[0;34m=\u001b[0m\u001b[0mpt_u\u001b[0m\u001b[0;34m.\u001b[0m\u001b[0mdata\u001b[0m\u001b[0;34m.\u001b[0m\u001b[0mcpu\u001b[0m\u001b[0;34m(\u001b[0m\u001b[0;34m)\u001b[0m\u001b[0;34m.\u001b[0m\u001b[0mnumpy\u001b[0m\u001b[0;34m(\u001b[0m\u001b[0;34m)\u001b[0m\u001b[0;34m\u001b[0m\u001b[0;34m\u001b[0m\u001b[0m\n\u001b[1;32m     30\u001b[0m \u001b[0;31m#ms_u = u.reshape(ms_x1.shape)\u001b[0m\u001b[0;34m\u001b[0m\u001b[0;34m\u001b[0m\u001b[0;34m\u001b[0m\u001b[0m\n\u001b[0;32m---> 31\u001b[0;31m \u001b[0mms_u\u001b[0m \u001b[0;34m=\u001b[0m \u001b[0mu\u001b[0m\u001b[0;34m.\u001b[0m\u001b[0mreshape\u001b[0m\u001b[0;34m(\u001b[0m\u001b[0mX2\u001b[0m\u001b[0;34m.\u001b[0m\u001b[0mshape\u001b[0m\u001b[0;34m)\u001b[0m\u001b[0;34m\u001b[0m\u001b[0;34m\u001b[0m\u001b[0m\n\u001b[0m\u001b[1;32m     32\u001b[0m \u001b[0;34m\u001b[0m\u001b[0m\n\u001b[1;32m     33\u001b[0m \u001b[0;34m\u001b[0m\u001b[0m\n",
            "\u001b[0;31mValueError\u001b[0m: cannot reshape array of size 40000 into shape (3435,3435)"
          ]
        }
      ],
      "source": [
        "from mpl_toolkits.mplot3d import Axes3D\n",
        "import matplotlib.pyplot as plt\n",
        "from matplotlib import cm\n",
        "from matplotlib.ticker import LinearLocator, FormatStrFormatter\n",
        "import numpy as np\n",
        "x1=np.arange(-1,1,0.01)\n",
        "x2=x1\n",
        "ms_x1, ms_x2 = np.meshgrid(x1, x2)\n",
        "## Just because meshgrid is used, we need to do the following adjustment\n",
        "#ms_x1, ms_x2=X2,Y2\n",
        "x1 = np.ravel(ms_x1).reshape(-1,1)\n",
        "x2 = np.ravel(ms_x2).reshape(-1,1)\n",
        "#true solution\n",
        "usol = np.sin(a_1 * np.pi *ms_x1) * np.sin(a_2 * np.pi * ms_x2) #solution chosen for convinience  \n",
        "#u_true = usol.flatten('F')[:,None]\n",
        " \n",
        "#pt_x1 = Variable(torch.from_numpy(x1).float(), requires_grad=True).to(device)\n",
        "#pt_x2 = Variable(torch.from_numpy(x2).float(), requires_grad=True).to(device)\n",
        "\n",
        "x3 = np.ravel(X2).reshape(-1,1)\n",
        "x4 = np.ravel(Y2).reshape(-1,1)\n",
        "\n",
        "pt_x3 = Variable(torch.from_numpy(x3).float(), requires_grad=True).to(device)\n",
        "pt_x4 = Variable(torch.from_numpy(x4).float(), requires_grad=True).to(device)\n",
        "\n",
        "#pt_u = net(pt_x1,pt_x2)\n",
        "pt_u = net(pt_x1,pt_x2)\n",
        "\n",
        "u=pt_u.data.cpu().numpy()\n",
        "#ms_u = u.reshape(ms_x1.shape)\n",
        "ms_u = u.reshape(X2.shape)\n",
        "\n",
        "\n",
        "def graph_sol3D():\n",
        "  fig = plt.figure()\n",
        "  ax = fig.gca(projection='3d')\n",
        "  surf = ax.plot_surface(ms_x1,ms_x2,np.abs(ms_u), cmap=cm.coolwarm,linewidth=0, antialiased=False)\n",
        "  ax.zaxis.set_major_locator(LinearLocator(10))\n",
        "  ax.zaxis.set_major_formatter(FormatStrFormatter('%.02f'))\n",
        "  fig.colorbar(surf, shrink=0.5, aspect=5)\n",
        "  plt.show()\n",
        "\n",
        "def graph_sol2D():\n",
        "  fig_1 = plt.figure(1, figsize=(18, 5))\n",
        "  plt.subplot(1, 3, 1)\n",
        "  plt.pcolor(ms_x1, ms_x2, usol, cmap='jet')\n",
        "  plt.colorbar()\n",
        "  plt.xlabel(r'$x_1$', fontsize=18)\n",
        "  plt.ylabel(r'$x_2$', fontsize=18)\n",
        "  plt.title('Analytical Solution $u(x1,x2)$', fontsize=15)\n",
        "\n",
        "  #Prediction\n",
        "  plt.subplot(1, 3, 2)\n",
        "  plt.pcolor(ms_x1, ms_x2, np.abs(ms_u), cmap='jet')\n",
        "  plt.colorbar()\n",
        "  plt.xlabel(r'$x_1$', fontsize=18)\n",
        "  plt.ylabel(r'$x_2$', fontsize=18)\n",
        "  plt.title('Predicted $NN(x_1,x_2)$', fontsize=15)\n",
        "\n",
        "  # Error\n",
        "  plt.subplot(1, 3, 3)\n",
        "  plt.pcolor(ms_x1, ms_x2, np.abs(usol - np.abs(ms_u)), cmap='jet')\n",
        "  plt.colorbar()\n",
        "  plt.xlabel(r'$x_1$', fontsize=18)\n",
        "  plt.ylabel(r'$x_2$', fontsize=18)\n",
        "  plt.title(r'Absolute error $|u(x_1,x_2)- NN(x_1,x_2)|$', fontsize=15)\n",
        "  #plt.tight_layout()\n"
      ]
    },
    {
      "cell_type": "code",
      "execution_count": null,
      "metadata": {
        "id": "pU0m9KaQkcbA"
      },
      "outputs": [],
      "source": [
        "\n",
        "plt.plot(pt_x_fem1,q)\n"
      ]
    },
    {
      "cell_type": "code",
      "execution_count": 22,
      "metadata": {
        "colab": {
          "base_uri": "https://localhost:8080/"
        },
        "id": "0JY_lwoUPb-8",
        "outputId": "1445c362-f482-4ad8-ad36-f47a0f529e78"
      },
      "outputs": [
        {
          "output_type": "stream",
          "name": "stderr",
          "text": [
            "/usr/local/lib/python3.7/dist-packages/torch/nn/modules/loss.py:530: UserWarning: Using a target size (torch.Size([3435])) that is different to the input size (torch.Size([3435, 1])). This will likely lead to incorrect results due to broadcasting. Please ensure they have the same size.\n",
            "  return F.mse_loss(input, target, reduction=self.reduction)\n",
            "/usr/local/lib/python3.7/dist-packages/ipykernel_launcher.py:13: UserWarning: To copy construct from a tensor, it is recommended to use sourceTensor.clone().detach() or sourceTensor.clone().detach().requires_grad_(True), rather than torch.tensor(sourceTensor).\n",
            "  del sys.path[0]\n",
            "/usr/local/lib/python3.7/dist-packages/torch/nn/modules/loss.py:530: UserWarning: Using a target size (torch.Size([3435])) that is different to the input size (torch.Size([3435, 3435])). This will likely lead to incorrect results due to broadcasting. Please ensure they have the same size.\n",
            "  return F.mse_loss(input, target, reduction=self.reduction)\n",
            "/usr/local/lib/python3.7/dist-packages/ipykernel_launcher.py:13: UserWarning: To copy construct from a tensor, it is recommended to use sourceTensor.clone().detach() or sourceTensor.clone().detach().requires_grad_(True), rather than torch.tensor(sourceTensor).\n",
            "  del sys.path[0]\n"
          ]
        },
        {
          "output_type": "stream",
          "name": "stdout",
          "text": [
            "0 Traning Loss: tensor(0.0788)\n"
          ]
        },
        {
          "output_type": "stream",
          "name": "stderr",
          "text": [
            "/usr/local/lib/python3.7/dist-packages/torch/nn/modules/loss.py:530: UserWarning: Using a target size (torch.Size([3435])) that is different to the input size (torch.Size([3435, 3435])). This will likely lead to incorrect results due to broadcasting. Please ensure they have the same size.\n",
            "  return F.mse_loss(input, target, reduction=self.reduction)\n",
            "/usr/local/lib/python3.7/dist-packages/torch/nn/modules/loss.py:530: UserWarning: Using a target size (torch.Size([3435])) that is different to the input size (torch.Size([3435, 1])). This will likely lead to incorrect results due to broadcasting. Please ensure they have the same size.\n",
            "  return F.mse_loss(input, target, reduction=self.reduction)\n"
          ]
        },
        {
          "output_type": "stream",
          "name": "stdout",
          "text": [
            "1 Traning Loss: tensor(0.0501)\n",
            "2 Traning Loss: tensor(0.0286)\n",
            "3 Traning Loss: tensor(0.0137)\n",
            "4 Traning Loss: tensor(0.0050)\n"
          ]
        },
        {
          "output_type": "stream",
          "name": "stderr",
          "text": [
            "/usr/local/lib/python3.7/dist-packages/ipykernel_launcher.py:10: UserWarning: To copy construct from a tensor, it is recommended to use sourceTensor.clone().detach() or sourceTensor.clone().detach().requires_grad_(True), rather than torch.tensor(sourceTensor).\n",
            "  # Remove the CWD from sys.path while we load stuff.\n",
            "/usr/local/lib/python3.7/dist-packages/torch/nn/modules/loss.py:530: UserWarning: Using a target size (torch.Size([3435])) that is different to the input size (torch.Size([3435, 3435])). This will likely lead to incorrect results due to broadcasting. Please ensure they have the same size.\n",
            "  return F.mse_loss(input, target, reduction=self.reduction)\n",
            "/usr/local/lib/python3.7/dist-packages/torch/nn/modules/loss.py:530: UserWarning: Using a target size (torch.Size([3435])) that is different to the input size (torch.Size([3435, 1])). This will likely lead to incorrect results due to broadcasting. Please ensure they have the same size.\n",
            "  return F.mse_loss(input, target, reduction=self.reduction)\n",
            "/usr/local/lib/python3.7/dist-packages/ipykernel_launcher.py:13: UserWarning: To copy construct from a tensor, it is recommended to use sourceTensor.clone().detach() or sourceTensor.clone().detach().requires_grad_(True), rather than torch.tensor(sourceTensor).\n",
            "  del sys.path[0]\n"
          ]
        },
        {
          "output_type": "stream",
          "name": "stdout",
          "text": [
            "5 Traning Loss: tensor(0.0018)\n",
            "6 Traning Loss: tensor(0.0028)\n",
            "7 Traning Loss: tensor(0.0059)\n"
          ]
        },
        {
          "output_type": "stream",
          "name": "stderr",
          "text": [
            "/usr/local/lib/python3.7/dist-packages/ipykernel_launcher.py:13: UserWarning: To copy construct from a tensor, it is recommended to use sourceTensor.clone().detach() or sourceTensor.clone().detach().requires_grad_(True), rather than torch.tensor(sourceTensor).\n",
            "  del sys.path[0]\n",
            "/usr/local/lib/python3.7/dist-packages/torch/nn/modules/loss.py:530: UserWarning: Using a target size (torch.Size([3435])) that is different to the input size (torch.Size([3435, 3435])). This will likely lead to incorrect results due to broadcasting. Please ensure they have the same size.\n",
            "  return F.mse_loss(input, target, reduction=self.reduction)\n",
            "/usr/local/lib/python3.7/dist-packages/torch/nn/modules/loss.py:530: UserWarning: Using a target size (torch.Size([3435])) that is different to the input size (torch.Size([3435, 1])). This will likely lead to incorrect results due to broadcasting. Please ensure they have the same size.\n",
            "  return F.mse_loss(input, target, reduction=self.reduction)\n"
          ]
        },
        {
          "output_type": "stream",
          "name": "stdout",
          "text": [
            "8 Traning Loss: tensor(0.0091)\n"
          ]
        },
        {
          "output_type": "stream",
          "name": "stderr",
          "text": [
            "/usr/local/lib/python3.7/dist-packages/ipykernel_launcher.py:13: UserWarning: To copy construct from a tensor, it is recommended to use sourceTensor.clone().detach() or sourceTensor.clone().detach().requires_grad_(True), rather than torch.tensor(sourceTensor).\n",
            "  del sys.path[0]\n",
            "/usr/local/lib/python3.7/dist-packages/torch/nn/modules/loss.py:530: UserWarning: Using a target size (torch.Size([3435])) that is different to the input size (torch.Size([3435, 3435])). This will likely lead to incorrect results due to broadcasting. Please ensure they have the same size.\n",
            "  return F.mse_loss(input, target, reduction=self.reduction)\n",
            "/usr/local/lib/python3.7/dist-packages/torch/nn/modules/loss.py:530: UserWarning: Using a target size (torch.Size([3435])) that is different to the input size (torch.Size([3435, 1])). This will likely lead to incorrect results due to broadcasting. Please ensure they have the same size.\n",
            "  return F.mse_loss(input, target, reduction=self.reduction)\n",
            "/usr/local/lib/python3.7/dist-packages/ipykernel_launcher.py:3: UserWarning: To copy construct from a tensor, it is recommended to use sourceTensor.clone().detach() or sourceTensor.clone().detach().requires_grad_(True), rather than torch.tensor(sourceTensor).\n",
            "  This is separate from the ipykernel package so we can avoid doing imports until\n",
            "/usr/local/lib/python3.7/dist-packages/ipykernel_launcher.py:13: UserWarning: To copy construct from a tensor, it is recommended to use sourceTensor.clone().detach() or sourceTensor.clone().detach().requires_grad_(True), rather than torch.tensor(sourceTensor).\n",
            "  del sys.path[0]\n"
          ]
        },
        {
          "output_type": "stream",
          "name": "stdout",
          "text": [
            "9 Traning Loss: tensor(0.0108)\n",
            "10 Traning Loss: tensor(0.0106)\n",
            "11 Traning Loss: tensor(0.0090)\n",
            "12 Traning Loss: tensor(0.0067)\n",
            "13 Traning Loss: tensor(0.0042)\n",
            "14 Traning Loss: tensor(0.0021)\n"
          ]
        },
        {
          "output_type": "stream",
          "name": "stderr",
          "text": [
            "/usr/local/lib/python3.7/dist-packages/torch/nn/modules/loss.py:530: UserWarning: Using a target size (torch.Size([3435])) that is different to the input size (torch.Size([3435, 3435])). This will likely lead to incorrect results due to broadcasting. Please ensure they have the same size.\n",
            "  return F.mse_loss(input, target, reduction=self.reduction)\n",
            "/usr/local/lib/python3.7/dist-packages/torch/nn/modules/loss.py:530: UserWarning: Using a target size (torch.Size([3435])) that is different to the input size (torch.Size([3435, 1])). This will likely lead to incorrect results due to broadcasting. Please ensure they have the same size.\n",
            "  return F.mse_loss(input, target, reduction=self.reduction)\n",
            "/usr/local/lib/python3.7/dist-packages/ipykernel_launcher.py:13: UserWarning: To copy construct from a tensor, it is recommended to use sourceTensor.clone().detach() or sourceTensor.clone().detach().requires_grad_(True), rather than torch.tensor(sourceTensor).\n",
            "  del sys.path[0]\n"
          ]
        },
        {
          "output_type": "stream",
          "name": "stdout",
          "text": [
            "15 Traning Loss: tensor(0.0007)\n",
            "16 Traning Loss: tensor(0.0001)\n",
            "17 Traning Loss: tensor(0.0002)\n",
            "18 Traning Loss: tensor(0.0007)\n",
            "19 Traning Loss: tensor(0.0015)\n",
            "20 Traning Loss: tensor(0.0021)\n"
          ]
        },
        {
          "output_type": "stream",
          "name": "stderr",
          "text": [
            "/usr/local/lib/python3.7/dist-packages/ipykernel_launcher.py:3: UserWarning: To copy construct from a tensor, it is recommended to use sourceTensor.clone().detach() or sourceTensor.clone().detach().requires_grad_(True), rather than torch.tensor(sourceTensor).\n",
            "  This is separate from the ipykernel package so we can avoid doing imports until\n",
            "/usr/local/lib/python3.7/dist-packages/torch/nn/modules/loss.py:530: UserWarning: Using a target size (torch.Size([3435])) that is different to the input size (torch.Size([3435, 3435])). This will likely lead to incorrect results due to broadcasting. Please ensure they have the same size.\n",
            "  return F.mse_loss(input, target, reduction=self.reduction)\n",
            "/usr/local/lib/python3.7/dist-packages/torch/nn/modules/loss.py:530: UserWarning: Using a target size (torch.Size([3435])) that is different to the input size (torch.Size([3435, 1])). This will likely lead to incorrect results due to broadcasting. Please ensure they have the same size.\n",
            "  return F.mse_loss(input, target, reduction=self.reduction)\n",
            "/usr/local/lib/python3.7/dist-packages/ipykernel_launcher.py:13: UserWarning: To copy construct from a tensor, it is recommended to use sourceTensor.clone().detach() or sourceTensor.clone().detach().requires_grad_(True), rather than torch.tensor(sourceTensor).\n",
            "  del sys.path[0]\n"
          ]
        },
        {
          "output_type": "stream",
          "name": "stdout",
          "text": [
            "21 Traning Loss: tensor(0.0026)\n",
            "22 Traning Loss: tensor(0.0028)\n",
            "23 Traning Loss: tensor(0.0026)\n",
            "24 Traning Loss: tensor(0.0022)\n",
            "25 Traning Loss: tensor(0.0017)\n",
            "26 Traning Loss: tensor(0.0011)\n",
            "27 Traning Loss: tensor(0.0007)\n"
          ]
        },
        {
          "output_type": "stream",
          "name": "stderr",
          "text": [
            "/usr/local/lib/python3.7/dist-packages/ipykernel_launcher.py:13: UserWarning: To copy construct from a tensor, it is recommended to use sourceTensor.clone().detach() or sourceTensor.clone().detach().requires_grad_(True), rather than torch.tensor(sourceTensor).\n",
            "  del sys.path[0]\n",
            "/usr/local/lib/python3.7/dist-packages/torch/nn/modules/loss.py:530: UserWarning: Using a target size (torch.Size([3435])) that is different to the input size (torch.Size([3435, 3435])). This will likely lead to incorrect results due to broadcasting. Please ensure they have the same size.\n",
            "  return F.mse_loss(input, target, reduction=self.reduction)\n",
            "/usr/local/lib/python3.7/dist-packages/torch/nn/modules/loss.py:530: UserWarning: Using a target size (torch.Size([3435])) that is different to the input size (torch.Size([3435, 1])). This will likely lead to incorrect results due to broadcasting. Please ensure they have the same size.\n",
            "  return F.mse_loss(input, target, reduction=self.reduction)\n"
          ]
        },
        {
          "output_type": "stream",
          "name": "stdout",
          "text": [
            "28 Traning Loss: tensor(0.0003)\n",
            "29 Traning Loss: tensor(0.0001)\n",
            "30 Traning Loss: tensor(0.0001)\n"
          ]
        },
        {
          "output_type": "stream",
          "name": "stderr",
          "text": [
            "/usr/local/lib/python3.7/dist-packages/torch/nn/modules/loss.py:530: UserWarning: Using a target size (torch.Size([3435])) that is different to the input size (torch.Size([3435, 3435])). This will likely lead to incorrect results due to broadcasting. Please ensure they have the same size.\n",
            "  return F.mse_loss(input, target, reduction=self.reduction)\n",
            "/usr/local/lib/python3.7/dist-packages/torch/nn/modules/loss.py:530: UserWarning: Using a target size (torch.Size([3435])) that is different to the input size (torch.Size([3435, 1])). This will likely lead to incorrect results due to broadcasting. Please ensure they have the same size.\n",
            "  return F.mse_loss(input, target, reduction=self.reduction)\n",
            "/usr/local/lib/python3.7/dist-packages/ipykernel_launcher.py:13: UserWarning: To copy construct from a tensor, it is recommended to use sourceTensor.clone().detach() or sourceTensor.clone().detach().requires_grad_(True), rather than torch.tensor(sourceTensor).\n",
            "  del sys.path[0]\n"
          ]
        },
        {
          "output_type": "stream",
          "name": "stdout",
          "text": [
            "31 Traning Loss: tensor(0.0002)\n",
            "32 Traning Loss: tensor(0.0004)\n"
          ]
        },
        {
          "output_type": "stream",
          "name": "stderr",
          "text": [
            "/usr/local/lib/python3.7/dist-packages/torch/nn/modules/loss.py:530: UserWarning: Using a target size (torch.Size([3435])) that is different to the input size (torch.Size([3435, 3435])). This will likely lead to incorrect results due to broadcasting. Please ensure they have the same size.\n",
            "  return F.mse_loss(input, target, reduction=self.reduction)\n",
            "/usr/local/lib/python3.7/dist-packages/torch/nn/modules/loss.py:530: UserWarning: Using a target size (torch.Size([3435])) that is different to the input size (torch.Size([3435, 1])). This will likely lead to incorrect results due to broadcasting. Please ensure they have the same size.\n",
            "  return F.mse_loss(input, target, reduction=self.reduction)\n",
            "/usr/local/lib/python3.7/dist-packages/ipykernel_launcher.py:13: UserWarning: To copy construct from a tensor, it is recommended to use sourceTensor.clone().detach() or sourceTensor.clone().detach().requires_grad_(True), rather than torch.tensor(sourceTensor).\n",
            "  del sys.path[0]\n"
          ]
        },
        {
          "output_type": "stream",
          "name": "stdout",
          "text": [
            "33 Traning Loss: tensor(0.0005)\n",
            "34 Traning Loss: tensor(0.0007)\n"
          ]
        },
        {
          "output_type": "stream",
          "name": "stderr",
          "text": [
            "/usr/local/lib/python3.7/dist-packages/torch/nn/modules/loss.py:530: UserWarning: Using a target size (torch.Size([3435])) that is different to the input size (torch.Size([3435, 3435])). This will likely lead to incorrect results due to broadcasting. Please ensure they have the same size.\n",
            "  return F.mse_loss(input, target, reduction=self.reduction)\n",
            "/usr/local/lib/python3.7/dist-packages/torch/nn/modules/loss.py:530: UserWarning: Using a target size (torch.Size([3435])) that is different to the input size (torch.Size([3435, 1])). This will likely lead to incorrect results due to broadcasting. Please ensure they have the same size.\n",
            "  return F.mse_loss(input, target, reduction=self.reduction)\n",
            "/usr/local/lib/python3.7/dist-packages/ipykernel_launcher.py:13: UserWarning: To copy construct from a tensor, it is recommended to use sourceTensor.clone().detach() or sourceTensor.clone().detach().requires_grad_(True), rather than torch.tensor(sourceTensor).\n",
            "  del sys.path[0]\n"
          ]
        },
        {
          "output_type": "stream",
          "name": "stdout",
          "text": [
            "35 Traning Loss: tensor(0.0007)\n",
            "36 Traning Loss: tensor(0.0007)\n",
            "37 Traning Loss: tensor(0.0006)\n"
          ]
        },
        {
          "output_type": "stream",
          "name": "stderr",
          "text": [
            "/usr/local/lib/python3.7/dist-packages/ipykernel_launcher.py:13: UserWarning: To copy construct from a tensor, it is recommended to use sourceTensor.clone().detach() or sourceTensor.clone().detach().requires_grad_(True), rather than torch.tensor(sourceTensor).\n",
            "  del sys.path[0]\n",
            "/usr/local/lib/python3.7/dist-packages/torch/nn/modules/loss.py:530: UserWarning: Using a target size (torch.Size([3435])) that is different to the input size (torch.Size([3435, 3435])). This will likely lead to incorrect results due to broadcasting. Please ensure they have the same size.\n",
            "  return F.mse_loss(input, target, reduction=self.reduction)\n",
            "/usr/local/lib/python3.7/dist-packages/torch/nn/modules/loss.py:530: UserWarning: Using a target size (torch.Size([3435])) that is different to the input size (torch.Size([3435, 1])). This will likely lead to incorrect results due to broadcasting. Please ensure they have the same size.\n",
            "  return F.mse_loss(input, target, reduction=self.reduction)\n"
          ]
        },
        {
          "output_type": "stream",
          "name": "stdout",
          "text": [
            "38 Traning Loss: tensor(0.0004)\n",
            "39 Traning Loss: tensor(0.0003)\n",
            "40 Traning Loss: tensor(0.0001)\n"
          ]
        },
        {
          "output_type": "stream",
          "name": "stderr",
          "text": [
            "/usr/local/lib/python3.7/dist-packages/torch/nn/modules/loss.py:530: UserWarning: Using a target size (torch.Size([3435])) that is different to the input size (torch.Size([3435, 3435])). This will likely lead to incorrect results due to broadcasting. Please ensure they have the same size.\n",
            "  return F.mse_loss(input, target, reduction=self.reduction)\n",
            "/usr/local/lib/python3.7/dist-packages/torch/nn/modules/loss.py:530: UserWarning: Using a target size (torch.Size([3435])) that is different to the input size (torch.Size([3435, 1])). This will likely lead to incorrect results due to broadcasting. Please ensure they have the same size.\n",
            "  return F.mse_loss(input, target, reduction=self.reduction)\n",
            "/usr/local/lib/python3.7/dist-packages/ipykernel_launcher.py:13: UserWarning: To copy construct from a tensor, it is recommended to use sourceTensor.clone().detach() or sourceTensor.clone().detach().requires_grad_(True), rather than torch.tensor(sourceTensor).\n",
            "  del sys.path[0]\n"
          ]
        },
        {
          "output_type": "stream",
          "name": "stdout",
          "text": [
            "41 Traning Loss: tensor(4.4253e-05)\n",
            "42 Traning Loss: tensor(1.1482e-05)\n",
            "43 Traning Loss: tensor(2.2351e-05)\n",
            "44 Traning Loss: tensor(6.2675e-05)\n",
            "45 Traning Loss: tensor(0.0001)\n"
          ]
        },
        {
          "output_type": "stream",
          "name": "stderr",
          "text": [
            "/usr/local/lib/python3.7/dist-packages/torch/nn/modules/loss.py:530: UserWarning: Using a target size (torch.Size([3435])) that is different to the input size (torch.Size([3435, 1])). This will likely lead to incorrect results due to broadcasting. Please ensure they have the same size.\n",
            "  return F.mse_loss(input, target, reduction=self.reduction)\n",
            "/usr/local/lib/python3.7/dist-packages/ipykernel_launcher.py:13: UserWarning: To copy construct from a tensor, it is recommended to use sourceTensor.clone().detach() or sourceTensor.clone().detach().requires_grad_(True), rather than torch.tensor(sourceTensor).\n",
            "  del sys.path[0]\n",
            "/usr/local/lib/python3.7/dist-packages/torch/nn/modules/loss.py:530: UserWarning: Using a target size (torch.Size([3435])) that is different to the input size (torch.Size([3435, 3435])). This will likely lead to incorrect results due to broadcasting. Please ensure they have the same size.\n",
            "  return F.mse_loss(input, target, reduction=self.reduction)\n"
          ]
        },
        {
          "output_type": "stream",
          "name": "stdout",
          "text": [
            "46 Traning Loss: tensor(0.0002)\n",
            "47 Traning Loss: tensor(0.0002)\n",
            "48 Traning Loss: tensor(0.0002)\n",
            "49 Traning Loss: tensor(0.0002)\n"
          ]
        },
        {
          "output_type": "stream",
          "name": "stderr",
          "text": [
            "/usr/local/lib/python3.7/dist-packages/torch/nn/modules/loss.py:530: UserWarning: Using a target size (torch.Size([3435])) that is different to the input size (torch.Size([3435, 1])). This will likely lead to incorrect results due to broadcasting. Please ensure they have the same size.\n",
            "  return F.mse_loss(input, target, reduction=self.reduction)\n",
            "/usr/local/lib/python3.7/dist-packages/ipykernel_launcher.py:13: UserWarning: To copy construct from a tensor, it is recommended to use sourceTensor.clone().detach() or sourceTensor.clone().detach().requires_grad_(True), rather than torch.tensor(sourceTensor).\n",
            "  del sys.path[0]\n",
            "/usr/local/lib/python3.7/dist-packages/torch/nn/modules/loss.py:530: UserWarning: Using a target size (torch.Size([3435])) that is different to the input size (torch.Size([3435, 3435])). This will likely lead to incorrect results due to broadcasting. Please ensure they have the same size.\n",
            "  return F.mse_loss(input, target, reduction=self.reduction)\n"
          ]
        },
        {
          "output_type": "stream",
          "name": "stdout",
          "text": [
            "50 Traning Loss: tensor(0.0001)\n",
            "51 Traning Loss: tensor(0.0001)\n",
            "52 Traning Loss: tensor(6.2641e-05)\n"
          ]
        },
        {
          "output_type": "stream",
          "name": "stderr",
          "text": [
            "/usr/local/lib/python3.7/dist-packages/ipykernel_launcher.py:12: UserWarning: To copy construct from a tensor, it is recommended to use sourceTensor.clone().detach() or sourceTensor.clone().detach().requires_grad_(True), rather than torch.tensor(sourceTensor).\n",
            "  if sys.path[0] == '':\n",
            "/usr/local/lib/python3.7/dist-packages/torch/nn/modules/loss.py:530: UserWarning: Using a target size (torch.Size([3435])) that is different to the input size (torch.Size([3435, 3435])). This will likely lead to incorrect results due to broadcasting. Please ensure they have the same size.\n",
            "  return F.mse_loss(input, target, reduction=self.reduction)\n",
            "/usr/local/lib/python3.7/dist-packages/torch/nn/modules/loss.py:530: UserWarning: Using a target size (torch.Size([3435])) that is different to the input size (torch.Size([3435, 1])). This will likely lead to incorrect results due to broadcasting. Please ensure they have the same size.\n",
            "  return F.mse_loss(input, target, reduction=self.reduction)\n",
            "/usr/local/lib/python3.7/dist-packages/ipykernel_launcher.py:13: UserWarning: To copy construct from a tensor, it is recommended to use sourceTensor.clone().detach() or sourceTensor.clone().detach().requires_grad_(True), rather than torch.tensor(sourceTensor).\n",
            "  del sys.path[0]\n"
          ]
        },
        {
          "output_type": "stream",
          "name": "stdout",
          "text": [
            "53 Traning Loss: tensor(3.2386e-05)\n",
            "54 Traning Loss: tensor(1.6047e-05)\n"
          ]
        },
        {
          "output_type": "stream",
          "name": "stderr",
          "text": [
            "/usr/local/lib/python3.7/dist-packages/ipykernel_launcher.py:13: UserWarning: To copy construct from a tensor, it is recommended to use sourceTensor.clone().detach() or sourceTensor.clone().detach().requires_grad_(True), rather than torch.tensor(sourceTensor).\n",
            "  del sys.path[0]\n",
            "/usr/local/lib/python3.7/dist-packages/torch/nn/modules/loss.py:530: UserWarning: Using a target size (torch.Size([3435])) that is different to the input size (torch.Size([3435, 3435])). This will likely lead to incorrect results due to broadcasting. Please ensure they have the same size.\n",
            "  return F.mse_loss(input, target, reduction=self.reduction)\n",
            "/usr/local/lib/python3.7/dist-packages/torch/nn/modules/loss.py:530: UserWarning: Using a target size (torch.Size([3435])) that is different to the input size (torch.Size([3435, 1])). This will likely lead to incorrect results due to broadcasting. Please ensure they have the same size.\n",
            "  return F.mse_loss(input, target, reduction=self.reduction)\n"
          ]
        },
        {
          "output_type": "stream",
          "name": "stdout",
          "text": [
            "55 Traning Loss: tensor(1.3940e-05)\n"
          ]
        },
        {
          "output_type": "stream",
          "name": "stderr",
          "text": [
            "/usr/local/lib/python3.7/dist-packages/torch/nn/modules/loss.py:530: UserWarning: Using a target size (torch.Size([3435])) that is different to the input size (torch.Size([3435, 3435])). This will likely lead to incorrect results due to broadcasting. Please ensure they have the same size.\n",
            "  return F.mse_loss(input, target, reduction=self.reduction)\n",
            "/usr/local/lib/python3.7/dist-packages/torch/nn/modules/loss.py:530: UserWarning: Using a target size (torch.Size([3435])) that is different to the input size (torch.Size([3435, 1])). This will likely lead to incorrect results due to broadcasting. Please ensure they have the same size.\n",
            "  return F.mse_loss(input, target, reduction=self.reduction)\n",
            "/usr/local/lib/python3.7/dist-packages/ipykernel_launcher.py:13: UserWarning: To copy construct from a tensor, it is recommended to use sourceTensor.clone().detach() or sourceTensor.clone().detach().requires_grad_(True), rather than torch.tensor(sourceTensor).\n",
            "  del sys.path[0]\n",
            "/usr/local/lib/python3.7/dist-packages/torch/nn/modules/loss.py:530: UserWarning: Using a target size (torch.Size([3435])) that is different to the input size (torch.Size([3435, 1])). This will likely lead to incorrect results due to broadcasting. Please ensure they have the same size.\n",
            "  return F.mse_loss(input, target, reduction=self.reduction)\n",
            "/usr/local/lib/python3.7/dist-packages/ipykernel_launcher.py:13: UserWarning: To copy construct from a tensor, it is recommended to use sourceTensor.clone().detach() or sourceTensor.clone().detach().requires_grad_(True), rather than torch.tensor(sourceTensor).\n",
            "  del sys.path[0]\n"
          ]
        },
        {
          "output_type": "stream",
          "name": "stdout",
          "text": [
            "56 Traning Loss: tensor(2.2915e-05)\n",
            "57 Traning Loss: tensor(3.7642e-05)\n"
          ]
        },
        {
          "output_type": "stream",
          "name": "stderr",
          "text": [
            "/usr/local/lib/python3.7/dist-packages/torch/nn/modules/loss.py:530: UserWarning: Using a target size (torch.Size([3435])) that is different to the input size (torch.Size([3435, 3435])). This will likely lead to incorrect results due to broadcasting. Please ensure they have the same size.\n",
            "  return F.mse_loss(input, target, reduction=self.reduction)\n"
          ]
        },
        {
          "output_type": "stream",
          "name": "stdout",
          "text": [
            "58 Traning Loss: tensor(5.2278e-05)\n",
            "59 Traning Loss: tensor(6.2037e-05)\n",
            "60 Traning Loss: tensor(6.4267e-05)\n",
            "61 Traning Loss: tensor(5.8806e-05)\n"
          ]
        },
        {
          "output_type": "stream",
          "name": "stderr",
          "text": [
            "/usr/local/lib/python3.7/dist-packages/torch/nn/modules/loss.py:530: UserWarning: Using a target size (torch.Size([3435])) that is different to the input size (torch.Size([3435, 3435])). This will likely lead to incorrect results due to broadcasting. Please ensure they have the same size.\n",
            "  return F.mse_loss(input, target, reduction=self.reduction)\n",
            "/usr/local/lib/python3.7/dist-packages/torch/nn/modules/loss.py:530: UserWarning: Using a target size (torch.Size([3435])) that is different to the input size (torch.Size([3435, 1])). This will likely lead to incorrect results due to broadcasting. Please ensure they have the same size.\n",
            "  return F.mse_loss(input, target, reduction=self.reduction)\n",
            "/usr/local/lib/python3.7/dist-packages/ipykernel_launcher.py:13: UserWarning: To copy construct from a tensor, it is recommended to use sourceTensor.clone().detach() or sourceTensor.clone().detach().requires_grad_(True), rather than torch.tensor(sourceTensor).\n",
            "  del sys.path[0]\n"
          ]
        },
        {
          "output_type": "stream",
          "name": "stdout",
          "text": [
            "62 Traning Loss: tensor(4.7621e-05)\n"
          ]
        },
        {
          "output_type": "stream",
          "name": "stderr",
          "text": [
            "/usr/local/lib/python3.7/dist-packages/torch/nn/modules/loss.py:530: UserWarning: Using a target size (torch.Size([3435])) that is different to the input size (torch.Size([3435, 3435])). This will likely lead to incorrect results due to broadcasting. Please ensure they have the same size.\n",
            "  return F.mse_loss(input, target, reduction=self.reduction)\n",
            "/usr/local/lib/python3.7/dist-packages/torch/nn/modules/loss.py:530: UserWarning: Using a target size (torch.Size([3435])) that is different to the input size (torch.Size([3435, 1])). This will likely lead to incorrect results due to broadcasting. Please ensure they have the same size.\n",
            "  return F.mse_loss(input, target, reduction=self.reduction)\n",
            "/usr/local/lib/python3.7/dist-packages/ipykernel_launcher.py:13: UserWarning: To copy construct from a tensor, it is recommended to use sourceTensor.clone().detach() or sourceTensor.clone().detach().requires_grad_(True), rather than torch.tensor(sourceTensor).\n",
            "  del sys.path[0]\n"
          ]
        },
        {
          "output_type": "stream",
          "name": "stdout",
          "text": [
            "63 Traning Loss: tensor(3.3937e-05)\n",
            "64 Traning Loss: tensor(2.1159e-05)\n",
            "65 Traning Loss: tensor(1.1928e-05)\n"
          ]
        },
        {
          "output_type": "stream",
          "name": "stderr",
          "text": [
            "/usr/local/lib/python3.7/dist-packages/torch/nn/modules/loss.py:530: UserWarning: Using a target size (torch.Size([3435])) that is different to the input size (torch.Size([3435, 3435])). This will likely lead to incorrect results due to broadcasting. Please ensure they have the same size.\n",
            "  return F.mse_loss(input, target, reduction=self.reduction)\n",
            "/usr/local/lib/python3.7/dist-packages/torch/nn/modules/loss.py:530: UserWarning: Using a target size (torch.Size([3435])) that is different to the input size (torch.Size([3435, 1])). This will likely lead to incorrect results due to broadcasting. Please ensure they have the same size.\n",
            "  return F.mse_loss(input, target, reduction=self.reduction)\n",
            "/usr/local/lib/python3.7/dist-packages/ipykernel_launcher.py:13: UserWarning: To copy construct from a tensor, it is recommended to use sourceTensor.clone().detach() or sourceTensor.clone().detach().requires_grad_(True), rather than torch.tensor(sourceTensor).\n",
            "  del sys.path[0]\n"
          ]
        },
        {
          "output_type": "stream",
          "name": "stdout",
          "text": [
            "66 Traning Loss: tensor(7.5346e-06)\n",
            "67 Traning Loss: tensor(7.7981e-06)\n",
            "68 Traning Loss: tensor(1.1362e-05)\n"
          ]
        },
        {
          "output_type": "stream",
          "name": "stderr",
          "text": [
            "/usr/local/lib/python3.7/dist-packages/torch/nn/modules/loss.py:530: UserWarning: Using a target size (torch.Size([3435])) that is different to the input size (torch.Size([3435, 1])). This will likely lead to incorrect results due to broadcasting. Please ensure they have the same size.\n",
            "  return F.mse_loss(input, target, reduction=self.reduction)\n",
            "/usr/local/lib/python3.7/dist-packages/ipykernel_launcher.py:13: UserWarning: To copy construct from a tensor, it is recommended to use sourceTensor.clone().detach() or sourceTensor.clone().detach().requires_grad_(True), rather than torch.tensor(sourceTensor).\n",
            "  del sys.path[0]\n",
            "/usr/local/lib/python3.7/dist-packages/torch/nn/modules/loss.py:530: UserWarning: Using a target size (torch.Size([3435])) that is different to the input size (torch.Size([3435, 3435])). This will likely lead to incorrect results due to broadcasting. Please ensure they have the same size.\n",
            "  return F.mse_loss(input, target, reduction=self.reduction)\n"
          ]
        },
        {
          "output_type": "stream",
          "name": "stdout",
          "text": [
            "69 Traning Loss: tensor(1.6257e-05)\n",
            "70 Traning Loss: tensor(2.0539e-05)\n",
            "71 Traning Loss: tensor(2.2810e-05)\n",
            "72 Traning Loss: tensor(2.2508e-05)\n",
            "73 Traning Loss: tensor(1.9918e-05)\n",
            "74 Traning Loss: tensor(1.5952e-05)\n"
          ]
        },
        {
          "output_type": "stream",
          "name": "stderr",
          "text": [
            "/usr/local/lib/python3.7/dist-packages/ipykernel_launcher.py:12: UserWarning: To copy construct from a tensor, it is recommended to use sourceTensor.clone().detach() or sourceTensor.clone().detach().requires_grad_(True), rather than torch.tensor(sourceTensor).\n",
            "  if sys.path[0] == '':\n",
            "/usr/local/lib/python3.7/dist-packages/ipykernel_launcher.py:13: UserWarning: To copy construct from a tensor, it is recommended to use sourceTensor.clone().detach() or sourceTensor.clone().detach().requires_grad_(True), rather than torch.tensor(sourceTensor).\n",
            "  del sys.path[0]\n",
            "/usr/local/lib/python3.7/dist-packages/torch/nn/modules/loss.py:530: UserWarning: Using a target size (torch.Size([3435])) that is different to the input size (torch.Size([3435, 3435])). This will likely lead to incorrect results due to broadcasting. Please ensure they have the same size.\n",
            "  return F.mse_loss(input, target, reduction=self.reduction)\n",
            "/usr/local/lib/python3.7/dist-packages/torch/nn/modules/loss.py:530: UserWarning: Using a target size (torch.Size([3435])) that is different to the input size (torch.Size([3435, 1])). This will likely lead to incorrect results due to broadcasting. Please ensure they have the same size.\n",
            "  return F.mse_loss(input, target, reduction=self.reduction)\n"
          ]
        },
        {
          "output_type": "stream",
          "name": "stdout",
          "text": [
            "75 Traning Loss: tensor(1.1779e-05)\n",
            "76 Traning Loss: tensor(8.4561e-06)\n",
            "77 Traning Loss: tensor(6.6349e-06)\n"
          ]
        },
        {
          "output_type": "stream",
          "name": "stderr",
          "text": [
            "/usr/local/lib/python3.7/dist-packages/torch/nn/modules/loss.py:530: UserWarning: Using a target size (torch.Size([3435])) that is different to the input size (torch.Size([3435, 3435])). This will likely lead to incorrect results due to broadcasting. Please ensure they have the same size.\n",
            "  return F.mse_loss(input, target, reduction=self.reduction)\n",
            "/usr/local/lib/python3.7/dist-packages/torch/nn/modules/loss.py:530: UserWarning: Using a target size (torch.Size([3435])) that is different to the input size (torch.Size([3435, 1])). This will likely lead to incorrect results due to broadcasting. Please ensure they have the same size.\n",
            "  return F.mse_loss(input, target, reduction=self.reduction)\n",
            "/usr/local/lib/python3.7/dist-packages/ipykernel_launcher.py:13: UserWarning: To copy construct from a tensor, it is recommended to use sourceTensor.clone().detach() or sourceTensor.clone().detach().requires_grad_(True), rather than torch.tensor(sourceTensor).\n",
            "  del sys.path[0]\n"
          ]
        },
        {
          "output_type": "stream",
          "name": "stdout",
          "text": [
            "78 Traning Loss: tensor(6.4386e-06)\n",
            "79 Traning Loss: tensor(7.5075e-06)\n"
          ]
        },
        {
          "output_type": "stream",
          "name": "stderr",
          "text": [
            "/usr/local/lib/python3.7/dist-packages/torch/nn/modules/loss.py:530: UserWarning: Using a target size (torch.Size([3435])) that is different to the input size (torch.Size([3435, 3435])). This will likely lead to incorrect results due to broadcasting. Please ensure they have the same size.\n",
            "  return F.mse_loss(input, target, reduction=self.reduction)\n",
            "/usr/local/lib/python3.7/dist-packages/torch/nn/modules/loss.py:530: UserWarning: Using a target size (torch.Size([3435])) that is different to the input size (torch.Size([3435, 1])). This will likely lead to incorrect results due to broadcasting. Please ensure they have the same size.\n",
            "  return F.mse_loss(input, target, reduction=self.reduction)\n",
            "/usr/local/lib/python3.7/dist-packages/ipykernel_launcher.py:13: UserWarning: To copy construct from a tensor, it is recommended to use sourceTensor.clone().detach() or sourceTensor.clone().detach().requires_grad_(True), rather than torch.tensor(sourceTensor).\n",
            "  del sys.path[0]\n"
          ]
        },
        {
          "output_type": "stream",
          "name": "stdout",
          "text": [
            "80 Traning Loss: tensor(9.1817e-06)\n",
            "81 Traning Loss: tensor(1.0743e-05)\n",
            "82 Traning Loss: tensor(1.1639e-05)\n"
          ]
        },
        {
          "output_type": "stream",
          "name": "stderr",
          "text": [
            "/usr/local/lib/python3.7/dist-packages/torch/nn/modules/loss.py:530: UserWarning: Using a target size (torch.Size([3435])) that is different to the input size (torch.Size([3435, 3435])). This will likely lead to incorrect results due to broadcasting. Please ensure they have the same size.\n",
            "  return F.mse_loss(input, target, reduction=self.reduction)\n",
            "/usr/local/lib/python3.7/dist-packages/torch/nn/modules/loss.py:530: UserWarning: Using a target size (torch.Size([3435])) that is different to the input size (torch.Size([3435, 1])). This will likely lead to incorrect results due to broadcasting. Please ensure they have the same size.\n",
            "  return F.mse_loss(input, target, reduction=self.reduction)\n",
            "/usr/local/lib/python3.7/dist-packages/ipykernel_launcher.py:13: UserWarning: To copy construct from a tensor, it is recommended to use sourceTensor.clone().detach() or sourceTensor.clone().detach().requires_grad_(True), rather than torch.tensor(sourceTensor).\n",
            "  del sys.path[0]\n"
          ]
        },
        {
          "output_type": "stream",
          "name": "stdout",
          "text": [
            "83 Traning Loss: tensor(1.1620e-05)\n",
            "84 Traning Loss: tensor(1.0764e-05)\n",
            "85 Traning Loss: tensor(9.3964e-06)\n"
          ]
        },
        {
          "output_type": "stream",
          "name": "stderr",
          "text": [
            "/usr/local/lib/python3.7/dist-packages/ipykernel_launcher.py:13: UserWarning: To copy construct from a tensor, it is recommended to use sourceTensor.clone().detach() or sourceTensor.clone().detach().requires_grad_(True), rather than torch.tensor(sourceTensor).\n",
            "  del sys.path[0]\n",
            "/usr/local/lib/python3.7/dist-packages/torch/nn/modules/loss.py:530: UserWarning: Using a target size (torch.Size([3435])) that is different to the input size (torch.Size([3435, 3435])). This will likely lead to incorrect results due to broadcasting. Please ensure they have the same size.\n",
            "  return F.mse_loss(input, target, reduction=self.reduction)\n",
            "/usr/local/lib/python3.7/dist-packages/torch/nn/modules/loss.py:530: UserWarning: Using a target size (torch.Size([3435])) that is different to the input size (torch.Size([3435, 1])). This will likely lead to incorrect results due to broadcasting. Please ensure they have the same size.\n",
            "  return F.mse_loss(input, target, reduction=self.reduction)\n"
          ]
        },
        {
          "output_type": "stream",
          "name": "stdout",
          "text": [
            "86 Traning Loss: tensor(7.9512e-06)\n",
            "87 Traning Loss: tensor(6.8146e-06)\n",
            "88 Traning Loss: tensor(6.2157e-06)\n"
          ]
        },
        {
          "output_type": "stream",
          "name": "stderr",
          "text": [
            "/usr/local/lib/python3.7/dist-packages/torch/nn/modules/loss.py:530: UserWarning: Using a target size (torch.Size([3435])) that is different to the input size (torch.Size([3435, 3435])). This will likely lead to incorrect results due to broadcasting. Please ensure they have the same size.\n",
            "  return F.mse_loss(input, target, reduction=self.reduction)\n",
            "/usr/local/lib/python3.7/dist-packages/torch/nn/modules/loss.py:530: UserWarning: Using a target size (torch.Size([3435])) that is different to the input size (torch.Size([3435, 1])). This will likely lead to incorrect results due to broadcasting. Please ensure they have the same size.\n",
            "  return F.mse_loss(input, target, reduction=self.reduction)\n",
            "/usr/local/lib/python3.7/dist-packages/ipykernel_launcher.py:13: UserWarning: To copy construct from a tensor, it is recommended to use sourceTensor.clone().detach() or sourceTensor.clone().detach().requires_grad_(True), rather than torch.tensor(sourceTensor).\n",
            "  del sys.path[0]\n"
          ]
        },
        {
          "output_type": "stream",
          "name": "stdout",
          "text": [
            "89 Traning Loss: tensor(6.1813e-06)\n",
            "90 Traning Loss: tensor(6.5624e-06)\n"
          ]
        },
        {
          "output_type": "stream",
          "name": "stderr",
          "text": [
            "/usr/local/lib/python3.7/dist-packages/torch/nn/modules/loss.py:530: UserWarning: Using a target size (torch.Size([3435])) that is different to the input size (torch.Size([3435, 3435])). This will likely lead to incorrect results due to broadcasting. Please ensure they have the same size.\n",
            "  return F.mse_loss(input, target, reduction=self.reduction)\n",
            "/usr/local/lib/python3.7/dist-packages/torch/nn/modules/loss.py:530: UserWarning: Using a target size (torch.Size([3435])) that is different to the input size (torch.Size([3435, 1])). This will likely lead to incorrect results due to broadcasting. Please ensure they have the same size.\n",
            "  return F.mse_loss(input, target, reduction=self.reduction)\n",
            "/usr/local/lib/python3.7/dist-packages/ipykernel_launcher.py:13: UserWarning: To copy construct from a tensor, it is recommended to use sourceTensor.clone().detach() or sourceTensor.clone().detach().requires_grad_(True), rather than torch.tensor(sourceTensor).\n",
            "  del sys.path[0]\n"
          ]
        },
        {
          "output_type": "stream",
          "name": "stdout",
          "text": [
            "91 Traning Loss: tensor(7.1107e-06)\n",
            "92 Traning Loss: tensor(7.5738e-06)\n",
            "93 Traning Loss: tensor(7.7754e-06)\n"
          ]
        },
        {
          "output_type": "stream",
          "name": "stderr",
          "text": [
            "/usr/local/lib/python3.7/dist-packages/torch/nn/modules/loss.py:530: UserWarning: Using a target size (torch.Size([3435])) that is different to the input size (torch.Size([3435, 3435])). This will likely lead to incorrect results due to broadcasting. Please ensure they have the same size.\n",
            "  return F.mse_loss(input, target, reduction=self.reduction)\n",
            "/usr/local/lib/python3.7/dist-packages/torch/nn/modules/loss.py:530: UserWarning: Using a target size (torch.Size([3435])) that is different to the input size (torch.Size([3435, 1])). This will likely lead to incorrect results due to broadcasting. Please ensure they have the same size.\n",
            "  return F.mse_loss(input, target, reduction=self.reduction)\n",
            "/usr/local/lib/python3.7/dist-packages/ipykernel_launcher.py:13: UserWarning: To copy construct from a tensor, it is recommended to use sourceTensor.clone().detach() or sourceTensor.clone().detach().requires_grad_(True), rather than torch.tensor(sourceTensor).\n",
            "  del sys.path[0]\n"
          ]
        },
        {
          "output_type": "stream",
          "name": "stdout",
          "text": [
            "94 Traning Loss: tensor(7.6579e-06)\n",
            "95 Traning Loss: tensor(7.2804e-06)\n",
            "96 Traning Loss: tensor(6.7794e-06)\n",
            "97 Traning Loss: tensor(6.3113e-06)\n",
            "98 Traning Loss: tensor(5.9978e-06)\n"
          ]
        },
        {
          "output_type": "stream",
          "name": "stderr",
          "text": [
            "/usr/local/lib/python3.7/dist-packages/torch/nn/modules/loss.py:530: UserWarning: Using a target size (torch.Size([3435])) that is different to the input size (torch.Size([3435, 1])). This will likely lead to incorrect results due to broadcasting. Please ensure they have the same size.\n",
            "  return F.mse_loss(input, target, reduction=self.reduction)\n",
            "/usr/local/lib/python3.7/dist-packages/ipykernel_launcher.py:13: UserWarning: To copy construct from a tensor, it is recommended to use sourceTensor.clone().detach() or sourceTensor.clone().detach().requires_grad_(True), rather than torch.tensor(sourceTensor).\n",
            "  del sys.path[0]\n"
          ]
        },
        {
          "output_type": "stream",
          "name": "stdout",
          "text": [
            "99 Traning Loss: tensor(5.8917e-06)\n"
          ]
        },
        {
          "output_type": "stream",
          "name": "stderr",
          "text": [
            "/usr/local/lib/python3.7/dist-packages/torch/nn/modules/loss.py:530: UserWarning: Using a target size (torch.Size([3435])) that is different to the input size (torch.Size([3435, 3435])). This will likely lead to incorrect results due to broadcasting. Please ensure they have the same size.\n",
            "  return F.mse_loss(input, target, reduction=self.reduction)\n"
          ]
        }
      ],
      "source": [
        "TRAINING(100);  "
      ]
    },
    {
      "cell_type": "code",
      "execution_count": null,
      "metadata": {
        "colab": {
          "base_uri": "https://localhost:8080/",
          "height": 248
        },
        "id": "5sVZgw_E84lK",
        "outputId": "db1359f8-0849-4d92-e07a-7ff2f6739224"
      },
      "outputs": [
        {
          "output_type": "display_data",
          "data": {
            "text/plain": [
              "<Figure size 432x288 with 2 Axes>"
            ],
            "image/png": "[encoded data removed]"
          },
          "metadata": {
            "needs_background": "light"
          }
        }
      ],
      "source": [
        "graph_sol3D()\n",
        "graph_sol2D()"
      ]
    },
    {
      "cell_type": "code",
      "execution_count": null,
      "metadata": {
        "id": "eYGhVDHP9J9g"
      },
      "outputs": [],
      "source": [
        "import matplotlib.pyplot as plt\n",
        "\n",
        "#pt_x_fem1 = Variable(torch.from_numpy(x3).float(), requires_grad=False).to(device) \n",
        "#pt_x_fem2= Variable(torch.from_numpy(x4).float(), requires_grad=False).to(device)\n",
        "\n",
        "fig = plt.figure(figsize=(9,6))\n",
        "#plt.scatter(t_0, x_0, c=u_0, marker='X', vmin=-1, vmax=1)\n",
        "#plt.scatter(x_bc, t_bc, marker='X', vmin=-1, vmax=1)\n",
        "plt.scatter(x3, x4, c='r', marker='.', alpha=0.1)\n",
        "plt.xlabel('$x1$')\n",
        "plt.ylabel('$x2$')\n",
        "\n",
        "plt.title('Positions of mesh_s nodes');"
      ]
    },
    {
      "cell_type": "code",
      "execution_count": 51,
      "metadata": {
        "id": "EyWAHc3NZbNc",
        "colab": {
          "base_uri": "https://localhost:8080/"
        },
        "outputId": "be53d287-a99c-456c-9cc4-b7a1f8c29998"
      },
      "outputs": [
        {
          "output_type": "execute_result",
          "data": {
            "text/plain": [
              "torch.Size([111556, 3435])"
            ]
          },
          "metadata": {},
          "execution_count": 51
        }
      ],
      "source": [
        "(net(pt_x1,pt_x2)*pt_z).shape\n"
      ]
    },
    {
      "cell_type": "code",
      "execution_count": null,
      "metadata": {
        "id": "i3YLCxqxrPdz"
      },
      "outputs": [],
      "source": [
        "pt_z"
      ]
    },
    {
      "cell_type": "code",
      "execution_count": null,
      "metadata": {
        "id": "EPgXUoQ4Y898"
      },
      "outputs": [],
      "source": [
        "#Ici je recupere les resultats etat et je les importes côté matlab\n",
        "#Enregistrer mon fichier sur colab\n",
        "from google.colab import drive\n",
        "drive.mount('/content/gdrive')\n",
        "\n",
        "#Verifier quels fichiers ont été enregistrer\n",
        "import os\n",
        "#print( os.getcwd() )\n",
        "print( os.listdir() )\n",
        "\n",
        "# save to csv file\n",
        "np.savetxt('pinn_eta.csv', ms_u, delimiter=',')\n",
        "print( os.listdir() )\n",
        "#Telecharger mon fichier\n",
        "from google.colab import files\n",
        "files.download( \"pinn_eta.csv\" )"
      ]
    },
    {
      "cell_type": "code",
      "execution_count": null,
      "metadata": {
        "id": "lDdXoPQoes85"
      },
      "outputs": [],
      "source": [
        "#exportation points de colocation 1 pour interpolation fem\n",
        "#Enregistrer mon fichier sur colab\n",
        "from google.colab import drive\n",
        "drive.mount('/content/gdrive')\n",
        "\n",
        "#Verifier quels fichiers ont été enregistrer\n",
        "import os\n",
        "#print( os.getcwd() )\n",
        "print( os.listdir() )\n",
        "\n",
        "# save to csv file\n",
        "np.savetxt('grid1.csv', ms_x1, delimiter=',')\n",
        "print( os.listdir() )\n",
        "#Telecharger mon fichier\n",
        "from google.colab import files\n",
        "files.download( \"grid1.csv\" )"
      ]
    },
    {
      "cell_type": "code",
      "execution_count": null,
      "metadata": {
        "id": "-4PNYK7jg_ww"
      },
      "outputs": [],
      "source": [
        "#exportation points de colocation 2 pour interpolation fem\n",
        "#Enregistrer mon fichier sur colab\n",
        "from google.colab import drive\n",
        "drive.mount('/content/gdrive')\n",
        "\n",
        "#Verifier quels fichiers ont été enregistrer\n",
        "import os\n",
        "#print( os.getcwd() )\n",
        "print( os.listdir() )\n",
        "\n",
        "# save to csv file\n",
        "np.savetxt('grid2.csv', ms_x2, delimiter=',')\n",
        "print( os.listdir() )\n",
        "#Telecharger mon fichier\n",
        "from google.colab import files\n",
        "files.download( \"grid2.csv\" )"
      ]
    },
    {
      "cell_type": "code",
      "execution_count": null,
      "metadata": {
        "id": "VwM97ogWg15l"
      },
      "outputs": [],
      "source": [
        "ms_x1-ms_x2"
      ]
    },
    {
      "cell_type": "code",
      "execution_count": null,
      "metadata": {
        "id": "icac30Je4xd5"
      },
      "outputs": [],
      "source": []
    },
    {
      "cell_type": "code",
      "execution_count": null,
      "metadata": {
        "id": "0hi-eYfcAFr8"
      },
      "outputs": [],
      "source": [
        "    pt_bc, u_bc = training_bc(100)\n",
        "    #x_bc,t_bc = pt_bc[:,0],pt_bc[:,1] pas bon ici, il nous faut un format ligne colonne\n",
        "    #np.transpose(np.array([pt_bc[:,0]])) on applique cette transformation pour convertir\n",
        "    x_bc,t_bc = np.transpose(np.array([pt_bc[:,0]])),np.transpose(np.array([pt_bc[:,1]]))"
      ]
    },
    {
      "cell_type": "code",
      "execution_count": null,
      "metadata": {
        "id": "Wqhpxm-zcIf2"
      },
      "outputs": [],
      "source": [
        "#je prends ces résultats et je les projette surnun maillage EF"
      ]
    },
    {
      "cell_type": "code",
      "execution_count": null,
      "metadata": {
        "id": "s_8b1cBC52nX"
      },
      "outputs": [],
      "source": [
        "#essai de la fonction interpolation\n",
        "from scipy.interpolate import LSQSphereBivariateSpline\n",
        "import matplotlib.pyplot as plt"
      ]
    },
    {
      "cell_type": "code",
      "execution_count": null,
      "metadata": {
        "id": "hpLIZLeu7UpZ"
      },
      "outputs": [],
      "source": [
        "theta = np.linspace(0, np.pi, num=7)\n",
        "phi = np.linspace(0, 2*np.pi, num=9)\n",
        "data = np.empty((theta.shape[0], phi.shape[0]))\n",
        "data[:,0], data[0,:], data[-1,:] = 0., 0., 0.\n",
        "data[1:-1,1], data[1:-1,-1] = 1., 1.\n",
        "data[1,1:-1], data[-2,1:-1] = 1., 1.\n",
        "data[2:-2,2], data[2:-2,-2] = 2., 2.\n",
        "data[2,2:-2], data[-3,2:-2] = 2., 2.\n",
        "data[3,3:-2] = 3.\n",
        "data = np.roll(data, 4, 1)\n",
        "\n",
        "\n",
        "lats, lons = np.meshgrid(theta, phi)\n",
        "knotst, knotsp = theta.copy(), phi.copy()\n",
        "knotst[0] += .0001\n",
        "knotst[-1] -= .0001\n",
        "knotsp[0] += .0001\n",
        "knotsp[-1] -= .0001\n",
        "lut = LSQSphereBivariateSpline(lats.ravel(), lons.ravel(), data.T.ravel(), knotst, knotsp)\n",
        "#lut(x, y) evalue l'interpolation de data sur les cordonées x et y\n",
        "#lut(theta, phi) ex ici en theta et phi"
      ]
    },
    {
      "cell_type": "code",
      "execution_count": null,
      "metadata": {
        "id": "MWFrFSPA7sHd"
      },
      "outputs": [],
      "source": [
        "#data-lut(theta, phi)\n",
        "lut(theta, phi).shape, theta.shape, phi.shape\n"
      ]
    },
    {
      "cell_type": "code",
      "execution_count": null,
      "metadata": {
        "id": "sM6CidFHLOQQ"
      },
      "outputs": [],
      "source": [
        "lut(x3, x4)"
      ]
    },
    {
      "cell_type": "code",
      "execution_count": null,
      "metadata": {
        "id": "zj98mAXB8P12"
      },
      "outputs": [],
      "source": [
        "data = np.roll(data, 4, 1)\n",
        "data.shape\n",
        "data"
      ]
    },
    {
      "cell_type": "code",
      "execution_count": null,
      "metadata": {
        "id": "jugImaUwcJb1"
      },
      "outputs": [],
      "source": [
        "#Fonction d'interpolation des points de colocations pinns vers le maillage EF\n",
        "#coloc=colocations\n",
        "eta_coloc=nn_out\n",
        "\n",
        "#on supperpose les points de colocations Pinn et les noeuds de maillage Fem.\n",
        "#Pour trouver les valeurs de NN_out dans le maillage fem on interpole.\n",
        "#chaque noeuds FEM sera le centre d'un cercle et tous les pts de coloc qui se trouvent dans ce cercle seront \n",
        "#combinés linéairement pour créer une moyenne pondérée par la distance au centre du cercle.\n",
        "\n",
        "def interpolation(eta_coloc,coloc,maillage_ef):\n",
        "  return eta_mesh"
      ]
    },
    {
      "cell_type": "code",
      "execution_count": null,
      "metadata": {
        "id": "WmjflrNgeYnH"
      },
      "outputs": [],
      "source": [
        "import matplotlib.pyplot as plt\n",
        "\n",
        "#x = [1,2,3,4,5,6,7,8]\n",
        "#y = [4,1,3,6,1,3,5,2]\n",
        "x,y=x3,x4\n",
        "plt.scatter(x,y)\n",
        "\n",
        "plt.title('Nuage de points avec Matplotlib')\n",
        "plt.xlabel('x')\n",
        "plt.ylabel('y')\n",
        "\n",
        "#plt.savefig('ScatterPlot_01.png')\n",
        "plt.show()"
      ]
    }
  ],
  "metadata": {
    "accelerator": "GPU",
    "colab": {
      "provenance": [],
      "include_colab_link": true
    },
    "gpuClass": "standard",
    "kernelspec": {
      "display_name": "Python 3",
      "name": "python3"
    },
    "language_info": {
      "name": "python"
    }
  },
  "nbformat": 4,
  "nbformat_minor": 0
}