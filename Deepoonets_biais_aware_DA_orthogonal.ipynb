{
  "cells": [
    {
      "cell_type": "markdown",
      "metadata": {
        "id": "view-in-github",
        "colab_type": "text"
      },
      "source": [
        "<a href=\"https://colab.research.google.com/github/stivenbg/Basics_ML/blob/main/Deepoonets_biais_aware_DA_orthogonal.ipynb\" target=\"_parent\"><img src=\"https://colab.research.google.com/assets/colab-badge.svg\" alt=\"Open In Colab\"/></a>"
      ]
    },
    {
      "cell_type": "code",
      "execution_count": 14,
      "metadata": {
        "id": "UY17WF1n6qS_"
      },
      "outputs": [],
      "source": [
        "import torch\n",
        "import numpy as np\n",
        "import scipy.io as io\n",
        "import os\n",
        "import matplotlib.pyplot as plt\n",
        "import time\n",
        "import scipy.io as io\n",
        "import sys\n",
        "import matplotlib.gridspec as gridspec\n",
        "import torch.nn.init as init\n"
      ]
    },
    {
      "cell_type": "code",
      "execution_count": 15,
      "metadata": {
        "id": "kVJjz73172E-"
      },
      "outputs": [],
      "source": [
        "sys.path.insert(0, 'Utilities/')\n",
        "import os\n",
        "\n",
        "# from plotting import newfig, savefig\n",
        "from mpl_toolkits.mplot3d import Axes3D\n",
        "import matplotlib.gridspec as gridspec\n",
        "\n",
        "np.random.seed(42)\n",
        "import sys\n",
        "import torch.nn as nn\n",
        "import torch.optim as optim"
      ]
    },
    {
      "cell_type": "code",
      "execution_count": 16,
      "metadata": {
        "id": "xBFKewho8LSC"
      },
      "outputs": [],
      "source": [
        "data2 = io.loadmat('/content/train_501_mu2_pod1')\n",
        "datatest = io.loadmat('/content/test_501_mu2_pod1_v2.mat')"
      ]
    },
    {
      "cell_type": "code",
      "execution_count": 17,
      "metadata": {
        "colab": {
          "base_uri": "https://localhost:8080/"
        },
        "id": "Xvs4nzjh8d8R",
        "outputId": "c098e7b5-027e-44e6-dc42-cc038daadaca"
      },
      "outputs": [
        {
          "output_type": "execute_result",
          "data": {
            "text/plain": [
              "(40, 2)"
            ]
          },
          "metadata": {},
          "execution_count": 17
        }
      ],
      "source": [
        "#Data\n",
        "# %% ici le train cest le test, normalement ca devrait bien fonctionner ensutie je change le test\n",
        "#u_train, v_train, x_train, y_train, u_test, v_test = data2['utrain'].T, data2['vtrain'].T, data2['xtrain'], data2['ytrain'], data2['utest'].T, data2['vtest'].T\n",
        "u_train, v_train, x_train, y_train = data2['utrain'].T, data2['vtrain'].T, data2['xtrain'], data2['ytrain']\n",
        "\n",
        "# %%\n",
        "#u_train = np.reshape(u_train, (101, 40))\n",
        "#u_train.shape\n",
        "# %%\n",
        "#v_train = v_train * 5\n",
        "v_train.shape\n",
        "# %%\n",
        "x_train.shape\n",
        "# %%\n",
        "y_train.shape\n",
        "# %%\n",
        "x_y_train = np.hstack([x_train, y_train])\n",
        "# %%\n",
        "x_y_train = x_y_train\n",
        "# %%\n",
        "x_y_train.shape\n",
        "# %%\n",
        "u_test = datatest['utest']\n",
        "u_test = u_test.T\n",
        "u_test.shape\n",
        "#%%\n",
        "#u_test = u_train\n",
        "u_test.shape\n",
        "\n",
        "# %%\n",
        "#v_test = v_train\n",
        "\n",
        "v_test = datatest['vtest']\n",
        "v_test = v_test.T\n",
        "v_test.shape\n",
        "\n",
        "# #%% test on non scaled data\n",
        "# v2 = data2['vtest']\n",
        "# v2 = v_test.T\n",
        "# #v_test = v_test * 5\n",
        "# v2.shape\n",
        "#%%\n",
        "\n",
        "#x_test, y_test = x_train, y_train\n",
        "#%%\n",
        "#x_test.shape\n",
        "#y_test.shape\n",
        "\n",
        "# %%\n",
        "x_test = datatest['xtest']\n",
        "x_test.shape\n",
        " # %%\n",
        "y_test = datatest['ytest']\n",
        "y_test.shape\n",
        "# %%\n",
        "x_y_test = np.hstack([x_test, y_test])\n",
        "x_y_test.shape\n",
        "#%%\n",
        "x_y_test.shape"
      ]
    },
    {
      "cell_type": "code",
      "execution_count": 18,
      "metadata": {
        "id": "dxGEBrf-8pPs"
      },
      "outputs": [],
      "source": [
        "#modele\n",
        "\n",
        "\n",
        "class DNN(nn.Module):\n",
        "    def __init__(self):\n",
        "        super(DNN, self).__init__()\n",
        "\n",
        "    # Initialization for DNNs\n",
        "    def hyper_initial(self, layers):\n",
        "        L = len(layers)\n",
        "        W = []\n",
        "        b = []\n",
        "        for l in range(1, L):\n",
        "            in_dim = layers[l - 1]\n",
        "            out_dim = layers[l]\n",
        "            std = np.sqrt(2.0 / (in_dim + out_dim))\n",
        "            weight = nn.Parameter(torch.randn(in_dim, out_dim) * std)\n",
        "            bias = nn.Parameter(torch.randn(1, out_dim) * std)\n",
        "            W.append(weight)\n",
        "            b.append(bias)\n",
        "        return W, b\n",
        "\n",
        "    def fnn_B(self, X, W, b):\n",
        "        A = X\n",
        "        L = len(W)\n",
        "        for i in range(L - 1):\n",
        "            A = torch.tanh(torch.matmul(A, W[i]) + b[i])\n",
        "        Y = torch.matmul(A, W[-1]) + b[-1]\n",
        "        return Y\n",
        "\n",
        "    def fnn_T(self, X, W, b):\n",
        "        A = X\n",
        "        L = len(W)\n",
        "        for i in range(L - 1):\n",
        "            A = torch.tanh(torch.matmul(A, W[i]) + b[i])\n",
        "        Y = torch.matmul(A, W[-1]) + b[-1]\n",
        "        return Y\n",
        "\n",
        "\n",
        "u_dim = 40\n",
        "\n",
        "# Output dimension for Branch and Trunk Net\n",
        "G_dim = 40\n",
        "\n",
        "# Branch Net\n",
        "layers_f = [u_dim] + [40] * 2 + [G_dim]\n",
        "\n",
        "# Trunk dim\n",
        "x_dim = 2\n",
        "\n",
        "# Trunk Net\n",
        "layers_x = [x_dim] + [40] * 2 + [G_dim]\n",
        "\n",
        "model = DNN()"
      ]
    },
    {
      "cell_type": "code",
      "source": [
        "B_values = [-0.3459, -0.7421, -0.3391, -0.8532, -0.3048, -0.4194, -0.2397, -0.7632, -0.7112, -0.4430, -0.3836, -0.9075, -0.9155, -0.5346, -0.3763, -0.4993, -0.3200, -0.4221, -0.3184, -0.3640, -0.5890, -0.2932, -0.6207, -0.4214, -0.4484, -0.7744, -0.3246, -0.8052, -0.3483, -0.3869, -0.8546, -0.3238, -0.2879, -0.9148, -0.8857, -0.8965, -0.6248, -0.3008, -0.5907, -0.3535]\n",
        "\n",
        "#B = np.array(B_values,dtype=np.float32).reshape(40, 1)\n",
        "B = torch.from_numpy(np.array(B_values, dtype=np.float32).reshape(40, 1))\n"
      ],
      "metadata": {
        "id": "WEtqgsu7i35r"
      },
      "execution_count": 19,
      "outputs": []
    },
    {
      "cell_type": "code",
      "source": [
        "B_tensor = torch.tensor(B)"
      ],
      "metadata": {
        "id": "ZSJNA8OF1rYK"
      },
      "execution_count": 39,
      "outputs": []
    },
    {
      "cell_type": "markdown",
      "source": [
        "B_values = [-0.3459, -0.7421, -0.3391, -0.8532, -0.3048, -0.4194, -0.2397, -0.7632,\n",
        "    -0.7112, -0.4430, -0.3836, -0.9075, -0.9155, -0.5346, -0.3763, -0.4993,\n",
        "    -0.3200, -0.4221, -0.3184, -0.3640, -0.5890, -0.2932, -0.6207, -0.4214,\n",
        "    -0.4484, -0.7744, -0.3246, -0.8052, -0.3483, -0.3869, -0.8546, -0.3238,\n",
        "    -0.2879, -0.9148, -0.8857, -0.8965, -0.6248, -0.3008, -0.5907, -0.3535]\n",
        "\n",
        "B = np.array(B_values).reshape(40, 1)\n"
      ],
      "metadata": {
        "id": "FpplI5_eixp-"
      }
    },
    {
      "cell_type": "code",
      "execution_count": 20,
      "metadata": {
        "id": "LmQHG_YY85ZM"
      },
      "outputs": [],
      "source": [
        "## introducing the differential equations\n",
        "def f_net(model, x, v, W_branch, b_branch, W_trunk, b_trunk):\n",
        "    mu = 2\n",
        "    epsilon = 0.01\n",
        "\n",
        "    u_out_branch = model.fnn_B(v, W_branch, b_branch)\n",
        "    u_out_trunk = model.fnn_T(x, W_trunk, b_trunk)\n",
        "    # u_pred = torch.einsum('ij,jj->ij', u_out_branch, u_out_trunk)\n",
        "    u_pred = torch.einsum('ij,kj->ik', u_out_branch, u_out_trunk)\n",
        "\n",
        "    u_x = torch.autograd.grad(u_pred.sum(), x[:, 0], create_graph=True)\n",
        "    u_y = torch.autograd.grad(u_pred, x[:, 1])\n",
        "    u_xx = torch.autograd.grad(u_x, x[:, 0])\n",
        "    u_yy = torch.autograd.grad(u_y, x[:, 1])\n",
        "\n",
        "    laplacian = u_xx + u_yy\n",
        "    res_loss = np.sqrt(1 + (epsilon * mu) ** 2) * laplacian - mu ** 2 * u_pred - mu**2 * v\n",
        "\n",
        "\n",
        "def train_step(model, W_branch, b_branch, W_trunk, b_trunk, v, x, u, optimizer):\n",
        "    train_vars = W_branch + b_branch + W_trunk + b_trunk\n",
        "    optimizer.zero_grad()\n",
        "    u_out_branch = model.fnn_B(v, W_branch, b_branch)\n",
        "    u_out_trunk = model.fnn_T(x, W_trunk, b_trunk)\n",
        "    # u_pred = torch.einsum('ij,jj->ij', u_out_branch, u_out_trunk)\n",
        "    u_pred = torch.einsum('ij,kj->ik', u_out_branch, u_out_trunk)\n",
        "\n",
        "    mu = 2\n",
        "    epsilon = 0.01\n",
        "\n",
        "    inputs = torch.ones(40, 1) # faire attention à cette ligne parce qu'elle definit la dimension de l'input. A chaque fois qu'on change la dimn  de l'input changer la dim ici\n",
        "    u_1 = u_pred\n",
        "    #     u_1 = u_1.reshape(-1, 1)\n",
        "    residual = 0.0\n",
        "     #for i in range(len(u_pred)):\n",
        "        # u1 = u_pred[i, :]\n",
        "         # = u1.T\n",
        "         #u1 = u1.reshape(-1, 1)\n",
        "\n",
        "        #grad_u = torch.autograd.grad(u1, x, grad_outputs=inputs, create_graph=True)[0]\n",
        "         #u_x = grad_u[:, 0].reshape(-1, 1)\n",
        "\n",
        "         #u_y = grad_u[:, 1].reshape(-1, 1)\n",
        "\n",
        "         #grad_u_x = torch.autograd.grad(u_x, x, grad_outputs=inputs, create_graph=True)[0]\n",
        "         #u_xx = grad_u_x[:, 0].reshape(-1, 1)\n",
        "\n",
        "         #grad_u_y = torch.autograd.grad(u_y, x, grad_outputs=inputs, create_graph=True)[0]\n",
        "         #u_yy = grad_u_y[:, 1].reshape(-1, 1)\n",
        "\n",
        "        # v1 = v.T\n",
        "        # v1 = v1[:, i].reshape(-1, 1)\n",
        "\n",
        "         #laplacian = u_xx + u_yy\n",
        "         #res_loss = - np.sqrt(1 + (epsilon * mu) ** 2) * laplacian.reshape(-1, ) - mu ** 2 * u1.reshape(\n",
        "         #    -1, ) - v1.reshape(-1, )  ##pde loss ici dans v y'a deja mu donc on eleve mu devant\n",
        "         #residual += res_loss\n",
        "    #         residual.append(res_loss)\n",
        "\n",
        "    #     x1 = x[:,0]\n",
        "    #     x1 = x1.reshape((-1,1))\n",
        "    #     expanded_x = x1.expand(-1, 100)\n",
        "\n",
        "    #     y1 = x[:,1]\n",
        "    #     y1 = y1.reshape((-1,1))\n",
        "    #     expanded_y = y1.expand(-1, 100)\n",
        "\n",
        "    #     grad_u_hat = torch.autograd.grad(u_1, expanded_x, grad_outputs=inputs, create_graph=True, allow_unused=True)[0]\n",
        "    #     u_x = grad_u_hat\n",
        "\n",
        "    #     u_y = torch.autograd.grad(u_1, expanded_y, grad_outputs=inputs, create_graph=True, allow_unused=True)[0]\n",
        "\n",
        "    # #     u_y = grad_u_hat[:, 1].reshape(-1,1)\n",
        "\n",
        "    #     u_xx = torch.autograd.grad(u_x, expanded_x, grad_outputs=inputs, create_graph=True, allow_unused=True)[0]\n",
        "\n",
        "    #     u_yy = torch.autograd.grad(u_y, expanded_y, grad_outputs=inputs, create_graph=True, allow_unused=True)[0]\n",
        "\n",
        "    # #     grad_u_x = torch.autograd.grad(u_x, x, grad_outputs=inputs, create_graph=True)[0]\n",
        "    # #     u_xx = grad_u_x[:, 0].reshape(-1,1)\n",
        "\n",
        "    # #     grad_u_y = torch.autograd.grad(u_y, x, grad_outputs=inputs, create_graph=True)[0]\n",
        "    # #     u_yy = grad_u_y[:, 1].reshape(-1,1)\n",
        "\n",
        "    #     v_1 = v.T\n",
        "    # #     v_1 = v_1[:, 0].reshape(-1, 1)\n",
        "\n",
        "    #     laplacian = u_xx+u_yy\n",
        "    #     res_loss = np.sqrt(1+(epsilon*mu)**2)*laplacian.reshape(-1,)-mu**2*u_1.reshape(-1,)-mu*v_1.reshape(-1,)  ##pde loss\n",
        "\n",
        "    #     residual = f_net(model, x, v, W_branch, b_branch, W_trunk, b_trunk)\n",
        "\n",
        "    #     residual = np.array(residual, dtype = np.float32)\n",
        "    #     residual = residual.reshape(-1,1)\n",
        "    #loss_pde = torch.mean(torch.abs(residual)) #utiliser abs c'est MAE, plutôt que square pour mse\n",
        "    data_loss = torch.mean(torch.square(u_pred - u))\n",
        "    #ortho = np.dot(u_pred[-1,:], B)\n",
        "    loss_ortho = torch.mean(torch.matmul(u_pred[-1,:], B))\n",
        "\n",
        "\n",
        "    #loss = data_loss + 0.00005*loss_pde\n",
        "    #loss = loss_pde\n",
        "    #loss = data_loss + ortho\n",
        "\n",
        "\n",
        "    loss = torch.mean(torch.square(u_pred - u)) + 0.001*torch.abs(loss_ortho)\n",
        "    loss.backward()\n",
        "    optimizer.step()\n",
        "    return loss.item(), u_pred.detach(), loss_ortho.item(), data_loss.item()\n",
        "    #return loss.item(), u_pred.detach(), data_loss.item()\n",
        "\n",
        "\n",
        "\n",
        "def test_step(model, W_branch, b_branch, W_trunk, b_trunk, v, x, u, optimizer):\n",
        "    x_test_tensor = torch.from_numpy(x).float()\n",
        "    v_test_tensor = torch.from_numpy(v).float()\n",
        "    u_test_tensor = torch.from_numpy(u).float()\n",
        "\n",
        "    with torch.no_grad():\n",
        "        u_out_branch = model.fnn_B(v_test_tensor, W_branch, b_branch)\n",
        "        u_out_trunk = model.fnn_T(x_test_tensor, W_trunk, b_trunk)\n",
        "        # u_pred = torch.einsum('ij,jj->ij', u_out_branch, u_out_trunk)\n",
        "        u_pred = torch.einsum('ij,kj->ik', u_out_branch, u_out_trunk)\n",
        "\n",
        "        loss = torch.mean(torch.square(u_pred - u_test_tensor))\n",
        "\n",
        "    return loss.item(), u_pred.detach().numpy()"
      ]
    },
    {
      "cell_type": "code",
      "execution_count": 21,
      "metadata": {
        "id": "B04YAH1T9K9X"
      },
      "outputs": [],
      "source": [
        "#Initialisation\n",
        "W_branch, b_branch = model.hyper_initial(layers_f)\n",
        "W_trunk, b_trunk = model.hyper_initial(layers_x)"
      ]
    },
    {
      "cell_type": "code",
      "execution_count": 13,
      "metadata": {
        "colab": {
          "base_uri": "https://localhost:8080/",
          "height": 262
        },
        "id": "I-ao7B_C9T4A",
        "outputId": "75c7264d-9334-4e0d-d6a7-24108b6213b8"
      },
      "outputs": [
        {
          "output_type": "stream",
          "name": "stdout",
          "text": [
            "Iteration: 0 Train_loss:0.00142373563721776, Test_loss: 0.0037415465340018272\n"
          ]
        },
        {
          "output_type": "error",
          "ename": "TypeError",
          "evalue": "ignored",
          "traceback": [
            "\u001b[0;31m---------------------------------------------------------------------------\u001b[0m",
            "\u001b[0;31mTypeError\u001b[0m                                 Traceback (most recent call last)",
            "\u001b[0;32m<ipython-input-13-d9da92beda60>\u001b[0m in \u001b[0;36m<cell line: 20>\u001b[0;34m()\u001b[0m\n\u001b[1;32m     50\u001b[0m         \u001b[0;32mif\u001b[0m \u001b[0mn\u001b[0m \u001b[0;34m%\u001b[0m \u001b[0;36m200\u001b[0m \u001b[0;34m==\u001b[0m \u001b[0;36m0\u001b[0m\u001b[0;34m:\u001b[0m\u001b[0;34m\u001b[0m\u001b[0;34m\u001b[0m\u001b[0m\n\u001b[1;32m     51\u001b[0m             \u001b[0mprint\u001b[0m\u001b[0;34m(\u001b[0m\u001b[0;34mf\"Iteration: {n} Train_loss:{loss_train}, Test_loss: {loss_test}\"\u001b[0m\u001b[0;34m)\u001b[0m\u001b[0;34m\u001b[0m\u001b[0;34m\u001b[0m\u001b[0m\n\u001b[0;32m---> 52\u001b[0;31m             \u001b[0mprint\u001b[0m\u001b[0;34m(\u001b[0m\u001b[0;34mf\"Iteration: {n} Train_loss:{loss_train}, ortho_loss:{torch.abs(loss_ortho)}\"\u001b[0m\u001b[0;34m)\u001b[0m\u001b[0;34m\u001b[0m\u001b[0;34m\u001b[0m\u001b[0m\n\u001b[0m\u001b[1;32m     53\u001b[0m \u001b[0;34m\u001b[0m\u001b[0m\n\u001b[1;32m     54\u001b[0m         \u001b[0mtrain_err_list\u001b[0m\u001b[0;34m.\u001b[0m\u001b[0mappend\u001b[0m\u001b[0;34m(\u001b[0m\u001b[0merr_train\u001b[0m\u001b[0;34m)\u001b[0m\u001b[0;34m\u001b[0m\u001b[0;34m\u001b[0m\u001b[0m\n",
            "\u001b[0;31mTypeError\u001b[0m: abs(): argument 'input' (position 1) must be Tensor, not float"
          ]
        }
      ],
      "source": [
        "\n",
        "from torch.optim.lr_scheduler import ReduceLROnPlateau\n",
        "\n",
        "n = 0\n",
        "nmax = 10000\n",
        "lr = 1e-4\n",
        "start_time = time.perf_counter()\n",
        "time_step_0 = time.perf_counter()\n",
        "l2_reg_strength = 1e-5  # You can adjust this value\n",
        "\n",
        "optimizer = optim.Adam(list(W_branch) + list(b_branch) + list(W_trunk) + list(b_trunk), lr=lr,  weight_decay=l2_reg_strength)\n",
        "scheduler = ReduceLROnPlateau(optimizer=optimizer)\n",
        "\n",
        "data_loss_list = []\n",
        "loss_ortho_list = []\n",
        "train_err_list = []\n",
        "test_err_list = []\n",
        "train_loss_list = []\n",
        "test_loss_list = []\n",
        "\n",
        "try:\n",
        "    while n <= nmax:\n",
        "        x_train_tensor = torch.from_numpy(x_y_train).float()\n",
        "        x_train_tensor.requires_grad_(True)\n",
        "        v_train_tensor = torch.from_numpy(v_train).float()\n",
        "        u_train_tensor = torch.from_numpy(u_train).float()\n",
        "\n",
        "        loss_train, u_train_pred, loss_ortho, data_loss = train_step(model, W_branch, b_branch, W_trunk,\n",
        "                                              b_trunk, v_train_tensor, x_train_tensor, u_train_tensor,\n",
        "                                              optimizer)\n",
        "        #loss_train, u_train_pred, data_loss = train_step(model, W_branch, b_branch, W_trunk,\n",
        "                                              #b_trunk, v_train_tensor, x_train_tensor, u_train_tensor,\n",
        "                                              #optimizer)\n",
        "\n",
        "\n",
        "\n",
        "\n",
        "        #     #err_train = np.mean(np.linalg.norm(u_train - u_train_pred, 2, axis=1) /\n",
        "        #                         np.linalg.norm(u_train, 2, axis=1))\n",
        "\n",
        "        u_train_pred_np = u_train_pred.detach().numpy()\n",
        "\n",
        "        err_train = np.mean(np.linalg.norm(u_train - u_train_pred_np, 2, axis=1) /\n",
        "                            np.linalg.norm(u_train, 2, axis=1))\n",
        "\n",
        "        loss_test, u_test_pred = test_step(model, W_branch, b_branch, W_trunk, b_trunk, v_test, x_y_test, u_test,\n",
        "                                           optimizer)\n",
        "        err_test = np.mean(np.linalg.norm(u_test - u_test_pred, 2, axis=1) /\n",
        "                           np.linalg.norm(u_test, 2, axis=1))\n",
        "\n",
        "        if n % 200 == 0:\n",
        "            print(f\"Iteration: {n} Train_loss:{loss_train}, Test_loss: {loss_test}\")\n",
        "            print(f\"Iteration: {n} Train_loss:{loss_train}, ortho_loss:{torch.abs(loss_ortho)}\")\n",
        "\n",
        "        train_err_list.append(err_train)\n",
        "        test_err_list.append(err_test)\n",
        "        train_loss_list.append(loss_train)\n",
        "        test_loss_list.append(loss_test)\n",
        "        loss_ortho_list.append(loss_ortho)\n",
        "        data_loss_list.append(data_loss)\n",
        "\n",
        "        if n % 1000 == 0:\n",
        "            gs = gridspec.GridSpec(1, 1)\n",
        "            ax = plt.subplot(gs[:, :])\n",
        "            plt.semilogy(range(len(train_loss_list)), train_loss_list, 'b-', label='Train Loss')\n",
        "            plt.semilogy(range(len(test_loss_list)), test_loss_list, 'r--', label='Test Loss')\n",
        "            plt.semilogy(range(len(loss_ortho_list)), torch.abs(loss_ortho), 'g-.', label='Ortho Loss')\n",
        "\n",
        "\n",
        "            #plt.plot(range(len(train_loss_list)), train_loss_list, 'b-', label='Train Loss')\n",
        "            #plt.plot(range(len(test_loss_list)), test_loss_list, 'r--', label='Test Loss')\n",
        "            #plt.semilogy(range(len(pde_loss_list)), pde_loss_list, 'g-.', label='PDE_t Loss')\n",
        "            #plt.semilogy(range(len(data_loss_list)), data_loss_list, 'm:', label='Data_t loss')\n",
        "\n",
        "            plt.xlabel('Iterations')\n",
        "            plt.ylabel('Loss (log scale)')\n",
        "\n",
        "            # Set the y-axis ticks and labels using a logarithmic scale\n",
        "            yticks = [ 10 ** -5, 10 ** -4, 10 ** -3, 10 ** -2, 10 ** -1, 10 ** 0]\n",
        "            yticklabels = [ '1e-5', '1e-4', '1e-3', '0.01', '0.1', '1']\n",
        "            plt.yticks(yticks, yticklabels)\n",
        "            # Set the y-axis limits\n",
        "            ax.set_ylim([10 ** -5, 1])\n",
        "\n",
        "            plt.legend()\n",
        "            plt.show()\n",
        "\n",
        "\n",
        "        n = n + 1\n",
        "\n",
        "except KeyboardInterrupt:\n",
        "    print(\"Training interrupted. Saving the model...\")\n",
        "\n",
        "# Save the model\n",
        "#torch.save(model.state_dict(), 'model_deeponet.pth')"
      ]
    },
    {
      "cell_type": "code",
      "source": [
        "plt.semilogy(range(len(loss_ortho_list)), loss_ortho_list, 'g-.', label='Ortho Loss')\n",
        "plt.show"
      ],
      "metadata": {
        "id": "P2y2G7R8_0ye",
        "outputId": "10f472cf-4b0a-4a73-aa9f-3c11e3d0c0ef",
        "colab": {
          "base_uri": "https://localhost:8080/",
          "height": 447
        }
      },
      "execution_count": 81,
      "outputs": [
        {
          "output_type": "execute_result",
          "data": {
            "text/plain": [
              "<function matplotlib.pyplot.show(close=None, block=None)>"
            ]
          },
          "metadata": {},
          "execution_count": 81
        },
        {
          "output_type": "display_data",
          "data": {
            "text/plain": [
              "<Figure size 640x480 with 1 Axes>"
            ],
            "image/png": "[encoded data removed]"
          },
          "metadata": {}
        }
      ]
    },
    {
      "cell_type": "code",
      "source": [
        "ax = plt.subplot(gs[:, :])\n",
        "plt.semilogy(range(len(train_loss_list)), train_loss_list, 'b-', label='Train Loss')\n",
        "plt.semilogy(range(len(test_loss_list)), test_loss_list, 'r--', label='Test Loss')\n",
        "plt.show"
      ],
      "metadata": {
        "id": "idINiRFQBIOr",
        "outputId": "854c4420-4dc9-4ad3-ef65-b35b5d50495c",
        "colab": {
          "base_uri": "https://localhost:8080/",
          "height": 447
        }
      },
      "execution_count": 82,
      "outputs": [
        {
          "output_type": "execute_result",
          "data": {
            "text/plain": [
              "<function matplotlib.pyplot.show(close=None, block=None)>"
            ]
          },
          "metadata": {},
          "execution_count": 82
        },
        {
          "output_type": "display_data",
          "data": {
            "text/plain": [
              "<Figure size 640x480 with 1 Axes>"
            ],
            "image/png": "[encoded data removed]"
          },
          "metadata": {}
        }
      ]
    },
    {
      "cell_type": "code",
      "execution_count": 35,
      "metadata": {
        "colab": {
          "base_uri": "https://localhost:8080/"
        },
        "id": "euyvfzmo-zlM",
        "outputId": "10f230ff-549c-4694-8d73-bd856d5fa833"
      },
      "outputs": [
        {
          "output_type": "execute_result",
          "data": {
            "text/plain": [
              "array([ 0.2696401 ,  0.62413514,  0.54394245,  0.3172875 ,  0.08333118,\n",
              "        0.03220244,  0.00322624,  0.5634373 ,  0.37163493,  0.50411284,\n",
              "       -0.08667289,  0.59509224,  0.4762071 ,  0.04769747,  0.05797539,\n",
              "        0.02530889,  0.22203866,  0.3697897 ,  0.32552275,  0.17498842,\n",
              "        0.4034611 ,  0.0691569 ,  0.11030499,  0.22660951,  0.3053139 ,\n",
              "        0.5038862 ,  0.13418874,  0.27199748,  0.43884912, -0.07108067,\n",
              "        0.3431155 ,  0.10316935,  0.05411298,  0.574785  ,  0.60263795,\n",
              "        0.49182573,  0.12576395,  0.06761909,  0.460396  ,  0.3199169 ],\n",
              "      dtype=float32)"
            ]
          },
          "metadata": {},
          "execution_count": 35
        }
      ],
      "source": [
        "u_test_pred[-1, :]"
      ]
    },
    {
      "cell_type": "code",
      "execution_count": 21,
      "metadata": {
        "id": "us3Z7OEqOP6F"
      },
      "outputs": [],
      "source": [
        "dot_products = np.dot(u_test_pred, B)\n",
        "sum_of_dot_products = np.sum(dot_products)"
      ]
    },
    {
      "cell_type": "code",
      "source": [
        "torch.matmul(B, u_test_pred)"
      ],
      "metadata": {
        "id": "OHgSqEtU26la",
        "outputId": "51fa571c-cac0-46eb-be97-7c01593c6091",
        "colab": {
          "base_uri": "https://localhost:8080/",
          "height": 175
        }
      },
      "execution_count": 83,
      "outputs": [
        {
          "output_type": "error",
          "ename": "TypeError",
          "evalue": "ignored",
          "traceback": [
            "\u001b[0;31m---------------------------------------------------------------------------\u001b[0m",
            "\u001b[0;31mTypeError\u001b[0m                                 Traceback (most recent call last)",
            "\u001b[0;32m<ipython-input-83-b77506c6a531>\u001b[0m in \u001b[0;36m<cell line: 1>\u001b[0;34m()\u001b[0m\n\u001b[0;32m----> 1\u001b[0;31m \u001b[0mtorch\u001b[0m\u001b[0;34m.\u001b[0m\u001b[0mmatmul\u001b[0m\u001b[0;34m(\u001b[0m\u001b[0mB\u001b[0m\u001b[0;34m,\u001b[0m \u001b[0mu_test_pred\u001b[0m\u001b[0;34m)\u001b[0m\u001b[0;34m\u001b[0m\u001b[0;34m\u001b[0m\u001b[0m\n\u001b[0m",
            "\u001b[0;31mTypeError\u001b[0m: matmul(): argument 'other' (position 2) must be Tensor, not numpy.ndarray"
          ]
        }
      ]
    },
    {
      "cell_type": "code",
      "source": [
        "print(sum_of_dot_products)"
      ],
      "metadata": {
        "id": "neuMBmW2jt7V",
        "outputId": "7a3d145f-32eb-4b96-9c71-7688536ff3e2",
        "colab": {
          "base_uri": "https://localhost:8080/"
        }
      },
      "execution_count": 22,
      "outputs": [
        {
          "output_type": "stream",
          "name": "stdout",
          "text": [
            "4480.7196612354255\n"
          ]
        }
      ]
    },
    {
      "cell_type": "code",
      "source": [
        "for i in range(u_test_pred.shape[0]):\n",
        "  dot_products = np.dot(u_test_pred[-1,:], B)\n",
        "  print(dot_products )"
      ],
      "metadata": {
        "id": "ZJiHzryxjwji",
        "outputId": "d6532b69-470f-4fcf-e65f-687234891de1",
        "colab": {
          "base_uri": "https://localhost:8080/"
        }
      },
      "execution_count": 87,
      "outputs": [
        {
          "output_type": "stream",
          "name": "stdout",
          "text": [
            "[-0.914847]\n",
            "[-0.914847]\n",
            "[-0.914847]\n",
            "[-0.914847]\n",
            "[-0.914847]\n",
            "[-0.914847]\n",
            "[-0.914847]\n",
            "[-0.914847]\n",
            "[-0.914847]\n",
            "[-0.914847]\n",
            "[-0.914847]\n",
            "[-0.914847]\n",
            "[-0.914847]\n",
            "[-0.914847]\n",
            "[-0.914847]\n",
            "[-0.914847]\n",
            "[-0.914847]\n",
            "[-0.914847]\n",
            "[-0.914847]\n",
            "[-0.914847]\n",
            "[-0.914847]\n",
            "[-0.914847]\n",
            "[-0.914847]\n",
            "[-0.914847]\n",
            "[-0.914847]\n",
            "[-0.914847]\n",
            "[-0.914847]\n",
            "[-0.914847]\n",
            "[-0.914847]\n",
            "[-0.914847]\n",
            "[-0.914847]\n",
            "[-0.914847]\n",
            "[-0.914847]\n",
            "[-0.914847]\n",
            "[-0.914847]\n",
            "[-0.914847]\n",
            "[-0.914847]\n",
            "[-0.914847]\n",
            "[-0.914847]\n",
            "[-0.914847]\n",
            "[-0.914847]\n",
            "[-0.914847]\n",
            "[-0.914847]\n",
            "[-0.914847]\n",
            "[-0.914847]\n",
            "[-0.914847]\n",
            "[-0.914847]\n",
            "[-0.914847]\n",
            "[-0.914847]\n",
            "[-0.914847]\n",
            "[-0.914847]\n",
            "[-0.914847]\n",
            "[-0.914847]\n",
            "[-0.914847]\n",
            "[-0.914847]\n",
            "[-0.914847]\n",
            "[-0.914847]\n",
            "[-0.914847]\n",
            "[-0.914847]\n",
            "[-0.914847]\n",
            "[-0.914847]\n",
            "[-0.914847]\n",
            "[-0.914847]\n",
            "[-0.914847]\n",
            "[-0.914847]\n",
            "[-0.914847]\n",
            "[-0.914847]\n",
            "[-0.914847]\n",
            "[-0.914847]\n",
            "[-0.914847]\n",
            "[-0.914847]\n",
            "[-0.914847]\n",
            "[-0.914847]\n",
            "[-0.914847]\n",
            "[-0.914847]\n",
            "[-0.914847]\n",
            "[-0.914847]\n",
            "[-0.914847]\n",
            "[-0.914847]\n",
            "[-0.914847]\n",
            "[-0.914847]\n",
            "[-0.914847]\n",
            "[-0.914847]\n",
            "[-0.914847]\n",
            "[-0.914847]\n",
            "[-0.914847]\n",
            "[-0.914847]\n",
            "[-0.914847]\n",
            "[-0.914847]\n",
            "[-0.914847]\n",
            "[-0.914847]\n",
            "[-0.914847]\n",
            "[-0.914847]\n",
            "[-0.914847]\n",
            "[-0.914847]\n",
            "[-0.914847]\n",
            "[-0.914847]\n",
            "[-0.914847]\n",
            "[-0.914847]\n",
            "[-0.914847]\n",
            "[-0.914847]\n",
            "[-0.914847]\n",
            "[-0.914847]\n",
            "[-0.914847]\n",
            "[-0.914847]\n",
            "[-0.914847]\n",
            "[-0.914847]\n",
            "[-0.914847]\n",
            "[-0.914847]\n",
            "[-0.914847]\n",
            "[-0.914847]\n",
            "[-0.914847]\n",
            "[-0.914847]\n",
            "[-0.914847]\n",
            "[-0.914847]\n",
            "[-0.914847]\n",
            "[-0.914847]\n",
            "[-0.914847]\n",
            "[-0.914847]\n",
            "[-0.914847]\n",
            "[-0.914847]\n",
            "[-0.914847]\n",
            "[-0.914847]\n",
            "[-0.914847]\n",
            "[-0.914847]\n",
            "[-0.914847]\n",
            "[-0.914847]\n",
            "[-0.914847]\n",
            "[-0.914847]\n",
            "[-0.914847]\n",
            "[-0.914847]\n",
            "[-0.914847]\n",
            "[-0.914847]\n",
            "[-0.914847]\n",
            "[-0.914847]\n",
            "[-0.914847]\n",
            "[-0.914847]\n",
            "[-0.914847]\n",
            "[-0.914847]\n",
            "[-0.914847]\n",
            "[-0.914847]\n",
            "[-0.914847]\n",
            "[-0.914847]\n",
            "[-0.914847]\n",
            "[-0.914847]\n",
            "[-0.914847]\n",
            "[-0.914847]\n",
            "[-0.914847]\n",
            "[-0.914847]\n",
            "[-0.914847]\n",
            "[-0.914847]\n",
            "[-0.914847]\n",
            "[-0.914847]\n",
            "[-0.914847]\n",
            "[-0.914847]\n",
            "[-0.914847]\n",
            "[-0.914847]\n",
            "[-0.914847]\n",
            "[-0.914847]\n",
            "[-0.914847]\n",
            "[-0.914847]\n",
            "[-0.914847]\n",
            "[-0.914847]\n",
            "[-0.914847]\n",
            "[-0.914847]\n",
            "[-0.914847]\n",
            "[-0.914847]\n",
            "[-0.914847]\n",
            "[-0.914847]\n",
            "[-0.914847]\n",
            "[-0.914847]\n",
            "[-0.914847]\n",
            "[-0.914847]\n",
            "[-0.914847]\n",
            "[-0.914847]\n",
            "[-0.914847]\n",
            "[-0.914847]\n",
            "[-0.914847]\n",
            "[-0.914847]\n",
            "[-0.914847]\n",
            "[-0.914847]\n",
            "[-0.914847]\n",
            "[-0.914847]\n",
            "[-0.914847]\n",
            "[-0.914847]\n",
            "[-0.914847]\n",
            "[-0.914847]\n",
            "[-0.914847]\n",
            "[-0.914847]\n",
            "[-0.914847]\n",
            "[-0.914847]\n",
            "[-0.914847]\n",
            "[-0.914847]\n",
            "[-0.914847]\n",
            "[-0.914847]\n",
            "[-0.914847]\n",
            "[-0.914847]\n",
            "[-0.914847]\n",
            "[-0.914847]\n",
            "[-0.914847]\n",
            "[-0.914847]\n"
          ]
        }
      ]
    },
    {
      "cell_type": "code",
      "source": [],
      "metadata": {
        "id": "WIhMEX2EzeP5",
        "outputId": "e7b42dad-ba5c-4c88-c94e-bcb57def4881",
        "colab": {
          "base_uri": "https://localhost:8080/"
        }
      },
      "execution_count": 85,
      "outputs": [
        {
          "output_type": "stream",
          "name": "stdout",
          "text": [
            "[-0.914847]\n"
          ]
        }
      ]
    },
    {
      "cell_type": "code",
      "source": [],
      "metadata": {
        "id": "vTkuBzLuzg70"
      },
      "execution_count": null,
      "outputs": []
    }
  ],
  "metadata": {
    "accelerator": "TPU",
    "colab": {
      "provenance": [],
      "include_colab_link": true
    },
    "kernelspec": {
      "display_name": "Python 3",
      "name": "python3"
    },
    "language_info": {
      "name": "python"
    }
  },
  "nbformat": 4,
  "nbformat_minor": 0
}